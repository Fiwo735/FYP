{
 "cells": [
  {
   "cell_type": "code",
   "execution_count": 1,
   "id": "5c7f5d70-781f-4f14-b245-c22b2e964841",
   "metadata": {},
   "outputs": [],
   "source": [
    "from pathlib import Path\n",
    "\n",
    "import torch\n",
    "import numpy as np\n",
    "from tqdm import tqdm\n",
    "import matplotlib.pyplot as plt\n",
    "from sklearn.metrics import roc_curve, auc, roc_auc_score\n",
    "from scipy import interpolate\n",
    "\n",
    "import project_path\n",
    "import nn.utils as utils\n",
    "import nn.model.net as net\n",
    "import nn.model.data as data\n",
    "import nn.model.loss as loss"
   ]
  },
  {
   "cell_type": "code",
   "execution_count": 2,
   "id": "84819a2a-0f46-4d20-b2fe-ccbbe06bd3f6",
   "metadata": {},
   "outputs": [],
   "source": [
    "import torch.nn as nn\n",
    "import torch.nn.functional as F"
   ]
  },
  {
   "cell_type": "code",
   "execution_count": 33,
   "id": "1fface1a-fe44-48ce-b19a-9da17057e7da",
   "metadata": {},
   "outputs": [],
   "source": [
    "class ConstituentNetGraph(nn.Module):\n",
    "    \"\"\"\n",
    "        ConstituentNet with Fourier Mixer.\n",
    "    \"\"\"\n",
    "\n",
    "    def __init__(self, in_dim:int=16, embbed_dim:int=32, num_classes:int=5, dropout:float=0.) -> None:\n",
    "        super(ConstituentNetGraph, self).__init__()\n",
    "        self.input_size = in_dim\n",
    "        self.channel_in = in_dim\n",
    "        self.embbed_dim = embbed_dim # C\n",
    "        \n",
    "        self.inp_layer = nn.Linear(in_dim, embbed_dim)\n",
    "        self.graph_assign = nn.Sequential(\n",
    "            nn.Linear(in_dim, 64), # number of graph nodes\n",
    "            nn.Softmax(dim=-1)\n",
    "        )\n",
    "        \n",
    "        self.convs = nn.Sequential(\n",
    "            nn.BatchNorm1d(num_features=32),\n",
    "            nn.Conv1d(32, 64, kernel_size=2, stride=2, bias=False),  # 32\n",
    "            nn.ReLU(),\n",
    "            nn.BatchNorm1d(num_features=64),\n",
    "            nn.Conv1d(64, 128, kernel_size=2, stride=2, bias=False), # 16\n",
    "            nn.ReLU(),\n",
    "            nn.BatchNorm1d(num_features=128),\n",
    "            nn.Conv1d(128, 128, kernel_size=2, stride=2, bias=False), # 8\n",
    "            nn.ReLU(),\n",
    "            nn.BatchNorm1d(num_features=128),\n",
    "            nn.Conv1d(128, 128, kernel_size=2, stride=2, bias=False), # 4\n",
    "            nn.ReLU(),\n",
    "            nn.BatchNorm1d(num_features=128),\n",
    "            nn.Conv1d(128, 256, kernel_size=2, stride=2, bias=False), # 2\n",
    "            nn.ReLU(),\n",
    "        )\n",
    "        \n",
    "        self.out_layer = nn.Sequential(\n",
    "            nn.Linear(256 * 2, num_classes)\n",
    "        )\n",
    "\n",
    "\n",
    "    def forward(self, x):\n",
    "\n",
    "        m_batch, seq_len, _ = x.size()      # (m_batch, seq_len=100, input_dim=16)\n",
    "        \n",
    "        # Graph node assignment\n",
    "        graph_assign = self.graph_assign(x) # (m_batch, seq_len=100, num_nodes=64)\n",
    "\n",
    "        # Input layer\n",
    "        out = self.inp_layer(x)             # (m_batch, seq_len, C)\n",
    "        out = out.transpose(1,2)            # (m_batch, C, seq_len)\n",
    "        out = torch.bmm(out, graph_assign)  # (m_batch, C, num_nodes)\n",
    "                        \n",
    "        # Conv layers\n",
    "        out = self.convs(out)                # (m_batch, C, 2)\n",
    "        out = self.out_layer(out.view(m_batch, -1))\n",
    "\n",
    "        return F.log_softmax(out, dim=-1)"
   ]
  },
  {
   "cell_type": "code",
   "execution_count": null,
   "id": "91950ae3-8466-4f56-a912-43431c48215c",
   "metadata": {},
   "outputs": [],
   "source": [
    ">>> m = nn.Conv1d(16, 33, 3, stride=2)\n",
    ">>> input = torch.randn(20, 16, 50)\n",
    ">>> output = m(input)"
   ]
  },
  {
   "cell_type": "code",
   "execution_count": 4,
   "id": "967940a0-07dd-47ad-893a-be0437f7fdd9",
   "metadata": {},
   "outputs": [
    {
     "data": {
      "text/plain": [
       "64"
      ]
     },
     "execution_count": 4,
     "metadata": {},
     "output_type": "execute_result"
    }
   ],
   "source": [
    "2 * 2 * 2 * 2 * 2 * 2"
   ]
  },
  {
   "cell_type": "code",
   "execution_count": 34,
   "id": "5751479d-07e0-4160-abfa-c35e14eca642",
   "metadata": {},
   "outputs": [],
   "source": [
    "model = ConstituentNetGraph()\n",
    "# input_seq = torch.rand(2,100,16)\n",
    "# model(input_seq)"
   ]
  },
  {
   "cell_type": "code",
   "execution_count": 35,
   "id": "f7f0927c-3777-4a32-af53-0489f5d886b0",
   "metadata": {},
   "outputs": [
    {
     "data": {
      "text/plain": [
       "351264"
      ]
     },
     "execution_count": 35,
     "metadata": {},
     "output_type": "execute_result"
    }
   ],
   "source": [
    "utils.count_parameters(model)"
   ]
  },
  {
   "cell_type": "code",
   "execution_count": null,
   "id": "614bc109-d936-4218-b9c7-a447bf9e1a7e",
   "metadata": {},
   "outputs": [],
   "source": []
  }
 ],
 "metadata": {
  "kernelspec": {
   "display_name": "Python 3 (ipykernel)",
   "language": "python",
   "name": "python3"
  },
  "language_info": {
   "codemirror_mode": {
    "name": "ipython",
    "version": 3
   },
   "file_extension": ".py",
   "mimetype": "text/x-python",
   "name": "python",
   "nbconvert_exporter": "python",
   "pygments_lexer": "ipython3",
   "version": "3.9.1"
  }
 },
 "nbformat": 4,
 "nbformat_minor": 5
}
