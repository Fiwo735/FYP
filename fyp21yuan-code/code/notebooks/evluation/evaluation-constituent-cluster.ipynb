{
 "cells": [
  {
   "cell_type": "code",
   "execution_count": 1,
   "id": "6016f554-2852-4ae0-ade1-9210745a83af",
   "metadata": {},
   "outputs": [],
   "source": [
    "from pathlib import Path\n",
    "\n",
    "import torch\n",
    "import numpy as np\n",
    "from tqdm import tqdm\n",
    "import matplotlib.pyplot as plt\n",
    "from sklearn.metrics import roc_curve, auc, roc_auc_score\n",
    "from scipy import interpolate\n",
    "\n",
    "import project_path\n",
    "import nn.utils as utils\n",
    "import nn.model.net as net\n",
    "import nn.model.data as data\n",
    "import nn.model.loss as loss"
   ]
  },
  {
   "cell_type": "markdown",
   "id": "49d7ae9b-fac2-49b5-aa22-dc2b8c9c4c1a",
   "metadata": {},
   "source": [
    "## Constants"
   ]
  },
  {
   "cell_type": "code",
   "execution_count": 2,
   "id": "5ac30f50-18d2-46f1-b582-3eb1fc0d253c",
   "metadata": {},
   "outputs": [],
   "source": [
    "NUM_CLASSES = 5\n",
    "CLASSES = ['Gluon', 'Lght quarks', 'W boson', 'Z boson', 'Top quark']\n",
    "MODEL_DIR = Path(\"../../experiments/constituent_cluster/best.script.pth\")"
   ]
  },
  {
   "cell_type": "code",
   "execution_count": 3,
   "id": "4d746703-8968-4b50-9029-f0efcaef3910",
   "metadata": {},
   "outputs": [
    {
     "data": {
      "text/plain": [
       "<torch._C.Generator at 0x108caf4d0>"
      ]
     },
     "execution_count": 3,
     "metadata": {},
     "output_type": "execute_result"
    }
   ],
   "source": [
    "torch.manual_seed(230)"
   ]
  },
  {
   "cell_type": "markdown",
   "id": "106dba27-c2e8-473c-8aae-198c5ec26554",
   "metadata": {},
   "source": [
    "## Data"
   ]
  },
  {
   "cell_type": "code",
   "execution_count": 4,
   "id": "799810ad-df3f-4679-b897-6942caef9b79",
   "metadata": {},
   "outputs": [],
   "source": [
    "# (1) creating dataset\n",
    "datasets = data.get_dataset(splits=['train-val', 'test'])\n",
    "dataset = datasets['train-val']\n",
    "test_set = datasets['test']\n",
    "\n",
    "# (2) train-validation split\n",
    "dataset_size = len(dataset)\n",
    "train_set, val_set, _ = torch.utils.data.random_split(dataset, [dataset_size - 1000, 1000, 0])\n",
    "\n",
    "# (3) train-validation dataloaders\n",
    "train_loader = data.DataLoader(train_set, batch_size=32, shuffle=True, collate_fn=data.get_collate_fn())\n",
    "val_loader = data.DataLoader(val_set, batch_size=32, collate_fn=data.get_collate_fn())\n",
    "test_loader = data.DataLoader(test_set, batch_size=32, collate_fn=data.get_collate_fn())"
   ]
  },
  {
   "cell_type": "code",
   "execution_count": 5,
   "id": "d16c6fad-ed7b-4c69-babf-1c1148a953b2",
   "metadata": {},
   "outputs": [],
   "source": [
    "# model = net.ConstituentNetPerceiver(num_perceivers=1, num_latent_transformers=1, embbed_dim=16, num_embbeds=16)\n",
    "# print(f'Number of parameters: {utils.count_parameters(model)}')"
   ]
  },
  {
   "cell_type": "markdown",
   "id": "dc90808b-13e5-45ea-81e6-fe5f16bd43ba",
   "metadata": {},
   "source": [
    "## Model"
   ]
  },
  {
   "cell_type": "code",
   "execution_count": 6,
   "id": "8e916a08-216f-426b-ba48-b28682e4e1aa",
   "metadata": {},
   "outputs": [
    {
     "name": "stdout",
     "output_type": "stream",
     "text": [
      "Number of parameters: 691205\n"
     ]
    },
    {
     "data": {
      "text/plain": [
       "RecursiveScriptModule(\n",
       "  original_name=ConstituentNetV2\n",
       "  (inp_layer): RecursiveScriptModule(original_name=Linear)\n",
       "  (encoder_blocks): RecursiveScriptModule(\n",
       "    original_name=ModuleList\n",
       "    (0): RecursiveScriptModule(\n",
       "      original_name=Transformer\n",
       "      (self_attention): RecursiveScriptModule(\n",
       "        original_name=SelfAttention\n",
       "        (norm): RecursiveScriptModule(original_name=LayerNorm)\n",
       "        (qkv): RecursiveScriptModule(original_name=Linear)\n",
       "        (out): RecursiveScriptModule(original_name=Linear)\n",
       "      )\n",
       "      (linear): RecursiveScriptModule(\n",
       "        original_name=Sequential\n",
       "        (0): RecursiveScriptModule(original_name=LayerNorm)\n",
       "        (1): RecursiveScriptModule(original_name=SiLU)\n",
       "        (2): RecursiveScriptModule(original_name=Linear)\n",
       "        (3): RecursiveScriptModule(original_name=LayerNorm)\n",
       "        (4): RecursiveScriptModule(original_name=SiLU)\n",
       "        (5): RecursiveScriptModule(original_name=Linear)\n",
       "      )\n",
       "      (dropout): RecursiveScriptModule(original_name=Dropout)\n",
       "    )\n",
       "    (1): RecursiveScriptModule(\n",
       "      original_name=Transformer\n",
       "      (self_attention): RecursiveScriptModule(\n",
       "        original_name=SelfAttention\n",
       "        (norm): RecursiveScriptModule(original_name=LayerNorm)\n",
       "        (qkv): RecursiveScriptModule(original_name=Linear)\n",
       "        (out): RecursiveScriptModule(original_name=Linear)\n",
       "      )\n",
       "      (linear): RecursiveScriptModule(\n",
       "        original_name=Sequential\n",
       "        (0): RecursiveScriptModule(original_name=LayerNorm)\n",
       "        (1): RecursiveScriptModule(original_name=SiLU)\n",
       "        (2): RecursiveScriptModule(original_name=Linear)\n",
       "        (3): RecursiveScriptModule(original_name=LayerNorm)\n",
       "        (4): RecursiveScriptModule(original_name=SiLU)\n",
       "        (5): RecursiveScriptModule(original_name=Linear)\n",
       "      )\n",
       "      (dropout): RecursiveScriptModule(original_name=Dropout)\n",
       "    )\n",
       "    (2): RecursiveScriptModule(\n",
       "      original_name=Transformer\n",
       "      (self_attention): RecursiveScriptModule(\n",
       "        original_name=SelfAttention\n",
       "        (norm): RecursiveScriptModule(original_name=LayerNorm)\n",
       "        (qkv): RecursiveScriptModule(original_name=Linear)\n",
       "        (out): RecursiveScriptModule(original_name=Linear)\n",
       "      )\n",
       "      (linear): RecursiveScriptModule(\n",
       "        original_name=Sequential\n",
       "        (0): RecursiveScriptModule(original_name=LayerNorm)\n",
       "        (1): RecursiveScriptModule(original_name=SiLU)\n",
       "        (2): RecursiveScriptModule(original_name=Linear)\n",
       "        (3): RecursiveScriptModule(original_name=LayerNorm)\n",
       "        (4): RecursiveScriptModule(original_name=SiLU)\n",
       "        (5): RecursiveScriptModule(original_name=Linear)\n",
       "      )\n",
       "      (dropout): RecursiveScriptModule(original_name=Dropout)\n",
       "    )\n",
       "  )\n",
       "  (norm): RecursiveScriptModule(original_name=LayerNorm)\n",
       "  (decoder_blocks): RecursiveScriptModule(\n",
       "    original_name=ModuleList\n",
       "    (0): RecursiveScriptModule(\n",
       "      original_name=DecoderTransformer\n",
       "      (self_attention): RecursiveScriptModule(\n",
       "        original_name=SelfAttention\n",
       "        (norm): RecursiveScriptModule(original_name=LayerNorm)\n",
       "        (qkv): RecursiveScriptModule(original_name=Linear)\n",
       "        (out): RecursiveScriptModule(original_name=Linear)\n",
       "      )\n",
       "      (cross_attention): RecursiveScriptModule(\n",
       "        original_name=Attention\n",
       "        (norm): RecursiveScriptModule(original_name=LayerNorm)\n",
       "        (queries): RecursiveScriptModule(original_name=Linear)\n",
       "        (keys): RecursiveScriptModule(original_name=Linear)\n",
       "        (values): RecursiveScriptModule(original_name=Linear)\n",
       "        (out): RecursiveScriptModule(original_name=Linear)\n",
       "      )\n",
       "      (linear): RecursiveScriptModule(\n",
       "        original_name=Sequential\n",
       "        (0): RecursiveScriptModule(original_name=LayerNorm)\n",
       "        (1): RecursiveScriptModule(original_name=SiLU)\n",
       "        (2): RecursiveScriptModule(original_name=Linear)\n",
       "        (3): RecursiveScriptModule(original_name=LayerNorm)\n",
       "        (4): RecursiveScriptModule(original_name=SiLU)\n",
       "        (5): RecursiveScriptModule(original_name=Linear)\n",
       "      )\n",
       "      (dropout): RecursiveScriptModule(original_name=Dropout)\n",
       "    )\n",
       "    (1): RecursiveScriptModule(\n",
       "      original_name=DecoderTransformer\n",
       "      (self_attention): RecursiveScriptModule(\n",
       "        original_name=SelfAttention\n",
       "        (norm): RecursiveScriptModule(original_name=LayerNorm)\n",
       "        (qkv): RecursiveScriptModule(original_name=Linear)\n",
       "        (out): RecursiveScriptModule(original_name=Linear)\n",
       "      )\n",
       "      (cross_attention): RecursiveScriptModule(\n",
       "        original_name=Attention\n",
       "        (norm): RecursiveScriptModule(original_name=LayerNorm)\n",
       "        (queries): RecursiveScriptModule(original_name=Linear)\n",
       "        (keys): RecursiveScriptModule(original_name=Linear)\n",
       "        (values): RecursiveScriptModule(original_name=Linear)\n",
       "        (out): RecursiveScriptModule(original_name=Linear)\n",
       "      )\n",
       "      (linear): RecursiveScriptModule(\n",
       "        original_name=Sequential\n",
       "        (0): RecursiveScriptModule(original_name=LayerNorm)\n",
       "        (1): RecursiveScriptModule(original_name=SiLU)\n",
       "        (2): RecursiveScriptModule(original_name=Linear)\n",
       "        (3): RecursiveScriptModule(original_name=LayerNorm)\n",
       "        (4): RecursiveScriptModule(original_name=SiLU)\n",
       "        (5): RecursiveScriptModule(original_name=Linear)\n",
       "      )\n",
       "      (dropout): RecursiveScriptModule(original_name=Dropout)\n",
       "    )\n",
       "    (2): RecursiveScriptModule(\n",
       "      original_name=DecoderTransformer\n",
       "      (self_attention): RecursiveScriptModule(\n",
       "        original_name=SelfAttention\n",
       "        (norm): RecursiveScriptModule(original_name=LayerNorm)\n",
       "        (qkv): RecursiveScriptModule(original_name=Linear)\n",
       "        (out): RecursiveScriptModule(original_name=Linear)\n",
       "      )\n",
       "      (cross_attention): RecursiveScriptModule(\n",
       "        original_name=Attention\n",
       "        (norm): RecursiveScriptModule(original_name=LayerNorm)\n",
       "        (queries): RecursiveScriptModule(original_name=Linear)\n",
       "        (keys): RecursiveScriptModule(original_name=Linear)\n",
       "        (values): RecursiveScriptModule(original_name=Linear)\n",
       "        (out): RecursiveScriptModule(original_name=Linear)\n",
       "      )\n",
       "      (linear): RecursiveScriptModule(\n",
       "        original_name=Sequential\n",
       "        (0): RecursiveScriptModule(original_name=LayerNorm)\n",
       "        (1): RecursiveScriptModule(original_name=SiLU)\n",
       "        (2): RecursiveScriptModule(original_name=Linear)\n",
       "        (3): RecursiveScriptModule(original_name=LayerNorm)\n",
       "        (4): RecursiveScriptModule(original_name=SiLU)\n",
       "        (5): RecursiveScriptModule(original_name=Linear)\n",
       "      )\n",
       "      (dropout): RecursiveScriptModule(original_name=Dropout)\n",
       "    )\n",
       "  )\n",
       "  (out_layer): RecursiveScriptModule(\n",
       "    original_name=Sequential\n",
       "    (0): RecursiveScriptModule(original_name=Linear)\n",
       "    (1): RecursiveScriptModule(original_name=Linear)\n",
       "  )\n",
       ")"
      ]
     },
     "execution_count": 6,
     "metadata": {},
     "output_type": "execute_result"
    }
   ],
   "source": [
    "model = torch.jit.load(MODEL_DIR, map_location='cpu')\n",
    "print(f'Number of parameters: {utils.count_parameters(model)}')\n",
    "model.eval()"
   ]
  },
  {
   "cell_type": "markdown",
   "id": "007f5310-21d3-4260-9212-601239027911",
   "metadata": {},
   "source": [
    "## Evaluation"
   ]
  },
  {
   "cell_type": "code",
   "execution_count": 12,
   "id": "b4b190c5-f46e-45c7-b655-cb228d352255",
   "metadata": {},
   "outputs": [
    {
     "name": "stderr",
     "output_type": "stream",
     "text": [
      "100%|███████████████████████████████████████████████████████████████████████████████████████████████████████████████████████████████████| 32/32 [01:20<00:00,  2.51s/batch]\n"
     ]
    }
   ],
   "source": [
    "# Statistics summary\n",
    "summ = []\n",
    "outs_list = []\n",
    "targs_list = []\n",
    "\n",
    "# compute metrics over the dataset\n",
    "with tqdm(total=len(val_loader), unit=\"batch\") as t:\n",
    "    for i, batch in enumerate(val_loader):\n",
    "\n",
    "        # Unpack batch, move to device\n",
    "        input_seqs = batch['input_seqs']  # torch.tensor (n, 100, 16) - the first 100 highest-$p_T$ particles are considered for each jet\n",
    "        input_1ds = batch['input_1ds']    # torch.tensor (n, 59-6)\n",
    "        input_2ds = batch['input_2ds']    # torch.tensor (n, 100, 100, 3) - merge of three jet images\n",
    "        targets = batch['targets']        # torch.tensor (n, )\n",
    "\n",
    "        # Forward pass\n",
    "        outputs, energy = model(input_seqs)                 # torch.tensor (n, num_classes)\n",
    "\n",
    "        # Append model preds and targs\n",
    "        outs_list.append(outputs.detach().numpy())\n",
    "        targs_list.append(targets.numpy())\n",
    "\n",
    "        # Update tqdm\n",
    "        t.update()"
   ]
  },
  {
   "cell_type": "markdown",
   "id": "ee4da82b-a943-46ab-9097-9f6002ea9140",
   "metadata": {},
   "source": [
    "### Confusion Matrix"
   ]
  },
  {
   "cell_type": "code",
   "execution_count": 13,
   "id": "81f33072-2cf8-44f8-a9f3-8828d3e316db",
   "metadata": {},
   "outputs": [
    {
     "name": "stdout",
     "output_type": "stream",
     "text": [
      "Accuracy:  0.834\n"
     ]
    },
    {
     "data": {
      "image/png": "[encoded data removed]",
      "text/plain": [
       "<Figure size 432x288 with 2 Axes>"
      ]
     },
     "metadata": {
      "needs_background": "light"
     },
     "output_type": "display_data"
    }
   ],
   "source": [
    "# Stack a list\n",
    "preds = np.hstack([outs.argmax(axis=-1) for outs in outs_list]) # 1d array of shape (num_samples, )\n",
    "targs =  np.hstack(targs_list)\n",
    "\n",
    "# Cofusion Matrix\n",
    "cm = utils.confusion_matrix(preds, targs)\n",
    "\n",
    "# Acc, precision,\n",
    "print(\"Accuracy: \",  np.sum(preds == targs) / len(targs))\n",
    "\n",
    "# Plot confusion matrix\n",
    "utils.plot_confusion_matrix(cm, CLASSES)\n",
    "plt.show()"
   ]
  },
  {
   "cell_type": "markdown",
   "id": "fe0bd31d-8770-4e7a-a0c5-cbc93402cdc2",
   "metadata": {},
   "source": [
    "### ROC"
   ]
  },
  {
   "cell_type": "code",
   "execution_count": 14,
   "id": "3f97f567-3583-4e05-ba23-bd1b813e0c71",
   "metadata": {},
   "outputs": [],
   "source": [
    "# Stack a list of ndarray\n",
    "y_test = np.vstack([utils.one_hot(targs, NUM_CLASSES) for targs in targs_list])\n",
    "y_score = np.vstack(outs_list)\n",
    "\n",
    "# Compute ROC curve and ROC area for each class\n",
    "fprs = dict()\n",
    "tprs = dict()\n",
    "roc_aucs = dict()\n",
    "for i in range(NUM_CLASSES):\n",
    "    fprs[i], tprs[i], _ = roc_curve(y_test[:, i], y_score[:, i])\n",
    "    roc_aucs[i] = auc(fprs[i], tprs[i])\n",
    "\n",
    "# Compute micro-average of all classes ROC curve and ROC area\n",
    "fprs[\"micro\"], tprs[\"micro\"], _ = roc_curve(y_test.ravel(), y_score.ravel())\n",
    "roc_aucs[\"micro\"] = auc(fprs[\"micro\"], tprs[\"micro\"])"
   ]
  },
  {
   "cell_type": "code",
   "execution_count": 15,
   "id": "9ffbc809-51e6-4378-8ba9-9bd5d6d17657",
   "metadata": {},
   "outputs": [
    {
     "data": {
      "image/png": "[encoded data removed]",
      "text/plain": [
       "<Figure size 432x288 with 1 Axes>"
      ]
     },
     "metadata": {
      "needs_background": "light"
     },
     "output_type": "display_data"
    }
   ],
   "source": [
    "plt.figure()\n",
    "plt.plot(fprs[4], tprs[4], color='darkorange', lw=2, label=f'ROC curve ({roc_aucs[4]:0.4f})')\n",
    "plt.plot([0, 1], [0, 1], color='navy', lw=2, linestyle='--')\n",
    "plt.xlim([0.0, 1.0])\n",
    "plt.ylim([0.0, 1.05])\n",
    "plt.xlabel('False Positive Rate')\n",
    "plt.ylabel('True Positive Rate')\n",
    "plt.title('Receiver operating characteristic example')\n",
    "plt.legend(loc=\"lower right\")\n",
    "plt.show()"
   ]
  },
  {
   "cell_type": "code",
   "execution_count": 16,
   "id": "1a9972dc-6149-4739-98f0-a5fd31e24dde",
   "metadata": {},
   "outputs": [
    {
     "name": "stdout",
     "output_type": "stream",
     "text": [
      "TPR for FPR = 10%\n",
      " Gluon:       0.8865979381443299\n",
      " Lght quarks: 0.8655913978494624\n",
      " W boson:     0.9209302325581395\n",
      " Z boson:     0.9193548387096774\n",
      " Top quark:   0.9634703196347032\n",
      "\n",
      "TPR for FPR = 1%\n",
      " Gluon:       0.5515463917525774\n",
      " Lght quarks: 0.3064516129032258\n",
      " W boson:     0.6093023255813953\n",
      " Z boson:     0.7903225806451613\n",
      " Top quark:   0.6027397260273972\n"
     ]
    }
   ],
   "source": [
    "print('TPR for FPR = 10%')\n",
    "for i in range(NUM_CLASSES):\n",
    "    tpr_fpr_intrp = interpolate.interp1d(fprs[i], tprs[i])\n",
    "    print(f' {CLASSES[i] + \":\" :<12} {tpr_fpr_intrp(0.1):<15}')\n",
    "\n",
    "print()\n",
    "print('TPR for FPR = 1%')\n",
    "for i in range(NUM_CLASSES):\n",
    "    tpr_fpr_intrp = interpolate.interp1d(fprs[i], tprs[i])\n",
    "    print(f' {CLASSES[i] + \":\" :<12} {tpr_fpr_intrp(0.01):<15}')"
   ]
  },
  {
   "cell_type": "markdown",
   "id": "e8eb0f48-f5eb-4b9f-88cb-700466db9e14",
   "metadata": {},
   "source": [
    "## Test"
   ]
  },
  {
   "cell_type": "code",
   "execution_count": 7,
   "id": "261b6834-5879-46d9-956f-f66fdbcfa394",
   "metadata": {},
   "outputs": [
    {
     "name": "stderr",
     "output_type": "stream",
     "text": [
      "100%|█████████████████████████████████████████████████████████████████████████████████████████| 313/313 [02:37<00:00,  1.99batch/s]\n"
     ]
    }
   ],
   "source": [
    "# Loss\n",
    "criterion = torch.nn.NLLLoss()\n",
    "\n",
    "# Statistics summary\n",
    "loss_avg = utils.RunningAverage()\n",
    "summ = []\n",
    "outs_list = []\n",
    "targs_list = []\n",
    "\n",
    "# compute metrics over the dataset\n",
    "with tqdm(total=len(test_loader), unit=\"batch\") as t:\n",
    "    for i, batch in enumerate(test_loader):\n",
    "\n",
    "        # Unpack batch, move to device\n",
    "        input_seqs = batch['input_seqs']  # torch.tensor (n, 100, 16) - the first 100 highest-$p_T$ particles are considered for each jet\n",
    "        input_1ds = batch['input_1ds']    # torch.tensor (n, 59-6)\n",
    "        input_2ds = batch['input_2ds']    # torch.tensor (n, 100, 100, 3) - merge of three jet images\n",
    "        targets = batch['targets']        # torch.tensor (n, )\n",
    "\n",
    "        # Forward pass\n",
    "        outputs, energy = model(input_seqs)                 # torch.tensor (n, num_classes)\n",
    "        \n",
    "        # Calculate Loss\n",
    "        loss = criterion(outputs, targets)\n",
    "        loss_avg.update(loss.item())\n",
    "\n",
    "        # Append model preds and targs\n",
    "        outs_list.append(outputs.detach().numpy())\n",
    "        targs_list.append(targets.numpy())\n",
    "\n",
    "        # Update tqdm\n",
    "        t.update()"
   ]
  },
  {
   "cell_type": "markdown",
   "id": "59f002da-b365-45f0-b5c3-0be75bb6d7f2",
   "metadata": {},
   "source": [
    "### Confusion Matrix"
   ]
  },
  {
   "cell_type": "code",
   "execution_count": 8,
   "id": "d98c1088-60d7-4d0f-8231-7eed756495bb",
   "metadata": {},
   "outputs": [
    {
     "name": "stdout",
     "output_type": "stream",
     "text": [
      "Accuracy:  0.8262\n",
      "Loss:  0.504011476144623\n"
     ]
    },
    {
     "data": {
      "image/png": "[encoded data removed]",
      "text/plain": [
       "<Figure size 432x288 with 2 Axes>"
      ]
     },
     "metadata": {
      "needs_background": "light"
     },
     "output_type": "display_data"
    }
   ],
   "source": [
    "# Stack a list\n",
    "preds = np.hstack([outs.argmax(axis=-1) for outs in outs_list]) # 1d array of shape (num_samples, )\n",
    "targs =  np.hstack(targs_list)\n",
    "\n",
    "# Cofusion Matrix\n",
    "cm = utils.confusion_matrix(preds, targs)\n",
    "\n",
    "# Acc, Loss,\n",
    "print(\"Accuracy: \",  np.sum(preds == targs) / len(targs))\n",
    "print(\"Loss: \", loss_avg())\n",
    "\n",
    "# Plot confusion matrix\n",
    "utils.plot_confusion_matrix(cm, CLASSES)\n",
    "plt.show()"
   ]
  },
  {
   "cell_type": "markdown",
   "id": "44a39680-1015-439b-ac00-3a44c979447b",
   "metadata": {},
   "source": [
    "### ROC"
   ]
  },
  {
   "cell_type": "code",
   "execution_count": 9,
   "id": "a64b4254-001c-4d76-b53d-20b93791d549",
   "metadata": {},
   "outputs": [],
   "source": [
    "# Stack a list of ndarray\n",
    "y_test = np.vstack([utils.one_hot(targs, NUM_CLASSES) for targs in targs_list])\n",
    "y_score = np.vstack(outs_list)\n",
    "\n",
    "# Compute ROC curve and ROC area for each class\n",
    "fprs = dict()\n",
    "tprs = dict()\n",
    "roc_aucs = dict()\n",
    "for i in range(NUM_CLASSES):\n",
    "    fprs[i], tprs[i], _ = roc_curve(y_test[:, i], y_score[:, i])\n",
    "    roc_aucs[i] = auc(fprs[i], tprs[i])\n",
    "\n",
    "# Compute micro-average of all classes ROC curve and ROC area\n",
    "fprs[\"micro\"], tprs[\"micro\"], _ = roc_curve(y_test.ravel(), y_score.ravel())\n",
    "roc_aucs[\"micro\"] = auc(fprs[\"micro\"], tprs[\"micro\"])"
   ]
  },
  {
   "cell_type": "code",
   "execution_count": 10,
   "id": "98de6c84-8317-4f36-a8fa-33246cb6a114",
   "metadata": {},
   "outputs": [
    {
     "data": {
      "image/png": "[encoded data removed]",
      "text/plain": [
       "<Figure size 432x288 with 1 Axes>"
      ]
     },
     "metadata": {
      "needs_background": "light"
     },
     "output_type": "display_data"
    }
   ],
   "source": [
    "plt.figure()\n",
    "plt.plot(fprs[4], tprs[4], color='darkorange', lw=2, label=f'ROC curve ({roc_aucs[4]:0.4f})')\n",
    "plt.plot([0, 1], [0, 1], color='navy', lw=2, linestyle='--')\n",
    "plt.xlim([0.0, 1.0])\n",
    "plt.ylim([0.0, 1.05])\n",
    "plt.xlabel('False Positive Rate')\n",
    "plt.ylabel('True Positive Rate')\n",
    "plt.title('Receiver operating characteristic example')\n",
    "plt.legend(loc=\"lower right\")\n",
    "plt.show()"
   ]
  },
  {
   "cell_type": "code",
   "execution_count": 11,
   "id": "6038b9bd-35e5-409d-b5d3-0e9a464f5bc5",
   "metadata": {},
   "outputs": [
    {
     "name": "stdout",
     "output_type": "stream",
     "text": [
      "TPR for FPR = 10%\n",
      " Gluon:       0.872278664731495\n",
      " Lght quarks: 0.8252980819077242\n",
      " W boson:     0.9440772750381291\n",
      " Z boson:     0.9198184568835098\n",
      " Top quark:   0.928919182083739\n",
      "\n",
      "TPR for FPR = 1%\n",
      " Gluon:       0.5041122399612966\n",
      " Lght quarks: 0.31207879730430277\n",
      " W boson:     0.7564819522114896\n",
      " Z boson:     0.8083711548159355\n",
      " Top quark:   0.681110029211295\n"
     ]
    }
   ],
   "source": [
    "print('TPR for FPR = 10%')\n",
    "for i in range(NUM_CLASSES):\n",
    "    tpr_fpr_intrp = interpolate.interp1d(fprs[i], tprs[i])\n",
    "    print(f' {CLASSES[i] + \":\" :<12} {tpr_fpr_intrp(0.1):<15}')\n",
    "\n",
    "print()\n",
    "print('TPR for FPR = 1%')\n",
    "for i in range(NUM_CLASSES):\n",
    "    tpr_fpr_intrp = interpolate.interp1d(fprs[i], tprs[i])\n",
    "    print(f' {CLASSES[i] + \":\" :<12} {tpr_fpr_intrp(0.01):<15}')"
   ]
  },
  {
   "cell_type": "code",
   "execution_count": 12,
   "id": "e05b5b4b-b1f4-40de-bd56-f441bda1807f",
   "metadata": {},
   "outputs": [
    {
     "name": "stdout",
     "output_type": "stream",
     "text": [
      "{0: 0.9579221505019877, 1: 0.9407167813853191, 2: 0.9804444186794041, 3: 0.9746837139006994, 4: 0.973084784074391, 'micro': 0.96726619625}\n"
     ]
    }
   ],
   "source": [
    "print(roc_aucs)"
   ]
  },
  {
   "cell_type": "code",
   "execution_count": null,
   "id": "68d8a36b-5720-4815-9ed6-c15138782a3e",
   "metadata": {},
   "outputs": [],
   "source": []
  }
 ],
 "metadata": {
  "kernelspec": {
   "display_name": "Python 3 (ipykernel)",
   "language": "python",
   "name": "python3"
  },
  "language_info": {
   "codemirror_mode": {
    "name": "ipython",
    "version": 3
   },
   "file_extension": ".py",
   "mimetype": "text/x-python",
   "name": "python",
   "nbconvert_exporter": "python",
   "pygments_lexer": "ipython3",
   "version": "3.9.1"
  }
 },
 "nbformat": 4,
 "nbformat_minor": 5
}
