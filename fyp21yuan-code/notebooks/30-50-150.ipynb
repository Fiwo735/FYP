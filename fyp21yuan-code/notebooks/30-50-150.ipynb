{
 "cells": [
  {
   "cell_type": "code",
   "execution_count": 1,
   "id": "6016f554-2852-4ae0-ade1-9210745a83af",
   "metadata": {},
   "outputs": [],
   "source": [
    "from pathlib import Path\n",
    "\n",
    "import torch\n",
    "import numpy as np\n",
    "from tqdm import tqdm\n",
    "import matplotlib.pyplot as plt\n",
    "from sklearn.metrics import roc_curve, auc, roc_auc_score\n",
    "from scipy import interpolate\n",
    "\n",
    "import project_path\n",
    "import nn.utils as utils\n",
    "import nn.model.net as net\n",
    "import nn.model.data as data\n",
    "import nn.model.loss as loss"
   ]
  },
  {
   "cell_type": "markdown",
   "id": "49d7ae9b-fac2-49b5-aa22-dc2b8c9c4c1a",
   "metadata": {},
   "source": [
    "## Constants"
   ]
  },
  {
   "cell_type": "code",
   "execution_count": 21,
   "id": "5ac30f50-18d2-46f1-b582-3eb1fc0d253c",
   "metadata": {},
   "outputs": [],
   "source": [
    "NUM_CLASSES = 5\n",
    "CLASSES = ['Gluon', 'Lght quarks', 'W boson', 'Z boson', 'Top quark']\n",
    "MODEL_DIR = Path(\"../experiments/constituent_perceiver_1/best.script.pth\")"
   ]
  },
  {
   "cell_type": "code",
   "execution_count": 22,
   "id": "4d746703-8968-4b50-9029-f0efcaef3910",
   "metadata": {},
   "outputs": [
    {
     "data": {
      "text/plain": [
       "<torch._C.Generator at 0x1086824b0>"
      ]
     },
     "execution_count": 22,
     "metadata": {},
     "output_type": "execute_result"
    }
   ],
   "source": [
    "torch.manual_seed(230)"
   ]
  },
  {
   "cell_type": "markdown",
   "id": "106dba27-c2e8-473c-8aae-198c5ec26554",
   "metadata": {},
   "source": [
    "## DataSets"
   ]
  },
  {
   "cell_type": "code",
   "execution_count": 23,
   "id": "582bd951-2fe2-46b6-9ee5-4a31b463da68",
   "metadata": {},
   "outputs": [],
   "source": [
    "test_loaders = {}\n",
    "constituent_list_length = [30, 50]\n",
    "\n",
    "for length in constituent_list_length:\n",
    "    test_set =  data.get_dataset(data_dir=Path(f\"../data/{length}\").resolve(), splits=['test'])['test']\n",
    "    test_loaders[length] =  data.DataLoader(test_set, batch_size=32, collate_fn=data.get_collate_fn())"
   ]
  },
  {
   "cell_type": "markdown",
   "id": "dc90808b-13e5-45ea-81e6-fe5f16bd43ba",
   "metadata": {},
   "source": [
    "## Model"
   ]
  },
  {
   "cell_type": "code",
   "execution_count": 24,
   "id": "8e916a08-216f-426b-ba48-b28682e4e1aa",
   "metadata": {},
   "outputs": [
    {
     "name": "stdout",
     "output_type": "stream",
     "text": [
      "Number of parameters: 8533\n"
     ]
    },
    {
     "data": {
      "text/plain": [
       "RecursiveScriptModule(\n",
       "  original_name=ConstituentNetPerceiver\n",
       "  (perceivers): RecursiveScriptModule(\n",
       "    original_name=ModuleList\n",
       "    (0): RecursiveScriptModule(\n",
       "      original_name=Perceiver\n",
       "      (cross_transformer): RecursiveScriptModule(\n",
       "        original_name=CrossTransformer\n",
       "        (self_attention): RecursiveScriptModule(\n",
       "          original_name=SelfAttention\n",
       "          (norm): RecursiveScriptModule(original_name=LayerNorm)\n",
       "          (qkv): RecursiveScriptModule(original_name=Linear)\n",
       "          (out): RecursiveScriptModule(original_name=Linear)\n",
       "        )\n",
       "        (cross_attention): RecursiveScriptModule(\n",
       "          original_name=Attention\n",
       "          (norm): RecursiveScriptModule(original_name=LayerNorm)\n",
       "          (queries): RecursiveScriptModule(original_name=Linear)\n",
       "          (keys): RecursiveScriptModule(original_name=Linear)\n",
       "          (values): RecursiveScriptModule(original_name=Linear)\n",
       "          (out): RecursiveScriptModule(original_name=Linear)\n",
       "        )\n",
       "        (linear): RecursiveScriptModule(\n",
       "          original_name=Sequential\n",
       "          (0): RecursiveScriptModule(original_name=LayerNorm)\n",
       "          (1): RecursiveScriptModule(original_name=SiLU)\n",
       "          (2): RecursiveScriptModule(original_name=Linear)\n",
       "          (3): RecursiveScriptModule(original_name=LayerNorm)\n",
       "          (4): RecursiveScriptModule(original_name=SiLU)\n",
       "          (5): RecursiveScriptModule(original_name=Linear)\n",
       "        )\n",
       "        (dropout): RecursiveScriptModule(original_name=Dropout)\n",
       "      )\n",
       "      (transformers): RecursiveScriptModule(\n",
       "        original_name=ModuleList\n",
       "        (0): RecursiveScriptModule(\n",
       "          original_name=Transformer\n",
       "          (self_attention): RecursiveScriptModule(\n",
       "            original_name=SelfAttention\n",
       "            (norm): RecursiveScriptModule(original_name=LayerNorm)\n",
       "            (qkv): RecursiveScriptModule(original_name=Linear)\n",
       "            (out): RecursiveScriptModule(original_name=Linear)\n",
       "          )\n",
       "          (linear): RecursiveScriptModule(\n",
       "            original_name=Sequential\n",
       "            (0): RecursiveScriptModule(original_name=LayerNorm)\n",
       "            (1): RecursiveScriptModule(original_name=SiLU)\n",
       "            (2): RecursiveScriptModule(original_name=Linear)\n",
       "            (3): RecursiveScriptModule(original_name=LayerNorm)\n",
       "            (4): RecursiveScriptModule(original_name=SiLU)\n",
       "            (5): RecursiveScriptModule(original_name=Linear)\n",
       "          )\n",
       "          (dropout): RecursiveScriptModule(original_name=Dropout)\n",
       "        )\n",
       "      )\n",
       "    )\n",
       "  )\n",
       "  (out_layer): RecursiveScriptModule(\n",
       "    original_name=Sequential\n",
       "    (0): RecursiveScriptModule(original_name=Linear)\n",
       "  )\n",
       ")"
      ]
     },
     "execution_count": 24,
     "metadata": {},
     "output_type": "execute_result"
    }
   ],
   "source": [
    "model = torch.jit.load(MODEL_DIR, map_location='cpu')\n",
    "print(f'Number of parameters: {utils.count_parameters(model)}')\n",
    "model.eval()"
   ]
  },
  {
   "cell_type": "markdown",
   "id": "e8eb0f48-f5eb-4b9f-88cb-700466db9e14",
   "metadata": {},
   "source": [
    "## Test - 30"
   ]
  },
  {
   "cell_type": "code",
   "execution_count": 26,
   "id": "261b6834-5879-46d9-956f-f66fdbcfa394",
   "metadata": {},
   "outputs": [
    {
     "name": "stderr",
     "output_type": "stream",
     "text": [
      "100%|█████████████████████████████████████████████████████████████████████████████████████████| 313/313 [01:57<00:00,  2.67batch/s]\n"
     ]
    }
   ],
   "source": [
    "# Loss\n",
    "criterion = torch.nn.NLLLoss()\n",
    "\n",
    "# Statistics summary\n",
    "loss_avg = utils.RunningAverage()\n",
    "summ = []\n",
    "outs_list = []\n",
    "targs_list = []\n",
    "\n",
    "# compute metrics over the dataset\n",
    "with tqdm(total=len(test_loaders[30]), unit=\"batch\") as t:\n",
    "    for i, batch in enumerate(test_loaders[30]):\n",
    "\n",
    "        # Unpack batch, move to device\n",
    "        input_seqs = batch['input_seqs']  # torch.tensor (n, 100, 16) - the first 100 highest-$p_T$ particles are considered for each jet\n",
    "        input_1ds = batch['input_1ds']    # torch.tensor (n, 59-6)\n",
    "        input_2ds = batch['input_2ds']    # torch.tensor (n, 100, 100, 3) - merge of three jet images\n",
    "        targets = batch['targets']        # torch.tensor (n, )\n",
    "\n",
    "        # Forward pass\n",
    "        outputs, energies = model(input_seqs)                 # torch.tensor (n, num_classes)\n",
    "        \n",
    "        # Calculate Loss\n",
    "        loss = criterion(outputs, targets)\n",
    "        loss_avg.update(loss.item())\n",
    "\n",
    "        # Append model preds and targs\n",
    "        outs_list.append(outputs.detach().numpy())\n",
    "        targs_list.append(targets.numpy())\n",
    "\n",
    "        # Update tqdm\n",
    "        t.update()"
   ]
  },
  {
   "cell_type": "markdown",
   "id": "59f002da-b365-45f0-b5c3-0be75bb6d7f2",
   "metadata": {},
   "source": [
    "### Confusion Matrix"
   ]
  },
  {
   "cell_type": "code",
   "execution_count": 27,
   "id": "d98c1088-60d7-4d0f-8231-7eed756495bb",
   "metadata": {},
   "outputs": [
    {
     "name": "stdout",
     "output_type": "stream",
     "text": [
      "Accuracy:  0.2083\n",
      "Loss:  6.002843893374117\n"
     ]
    },
    {
     "data": {
      "image/png": "[encoded data removed]",
      "text/plain": [
       "<Figure size 432x288 with 2 Axes>"
      ]
     },
     "metadata": {
      "needs_background": "light"
     },
     "output_type": "display_data"
    }
   ],
   "source": [
    "# Stack a list\n",
    "preds = np.hstack([outs.argmax(axis=-1) for outs in outs_list]) # 1d array of shape (num_samples, )\n",
    "targs =  np.hstack(targs_list)\n",
    "\n",
    "# Cofusion Matrix\n",
    "cm = utils.confusion_matrix(preds, targs)\n",
    "\n",
    "# Acc, Loss,\n",
    "print(\"Accuracy: \",  np.sum(preds == targs) / len(targs))\n",
    "print(\"Loss: \", loss_avg())\n",
    "\n",
    "# Plot confusion matrix\n",
    "utils.plot_confusion_matrix(cm, CLASSES)\n",
    "plt.show()"
   ]
  },
  {
   "cell_type": "markdown",
   "id": "44a39680-1015-439b-ac00-3a44c979447b",
   "metadata": {},
   "source": [
    "### ROC"
   ]
  },
  {
   "cell_type": "code",
   "execution_count": 28,
   "id": "a64b4254-001c-4d76-b53d-20b93791d549",
   "metadata": {},
   "outputs": [],
   "source": [
    "# Stack a list of ndarray\n",
    "y_test = np.vstack([utils.one_hot(targs, NUM_CLASSES) for targs in targs_list])\n",
    "y_score = np.vstack(outs_list)\n",
    "\n",
    "# Compute ROC curve and ROC area for each class\n",
    "fprs = dict()\n",
    "tprs = dict()\n",
    "roc_aucs = dict()\n",
    "for i in range(NUM_CLASSES):\n",
    "    fprs[i], tprs[i], _ = roc_curve(y_test[:, i], y_score[:, i])\n",
    "    roc_aucs[i] = auc(fprs[i], tprs[i])\n",
    "\n",
    "# Compute micro-average of all classes ROC curve and ROC area\n",
    "fprs[\"micro\"], tprs[\"micro\"], _ = roc_curve(y_test.ravel(), y_score.ravel())\n",
    "roc_aucs[\"micro\"] = auc(fprs[\"micro\"], tprs[\"micro\"])"
   ]
  },
  {
   "cell_type": "code",
   "execution_count": 29,
   "id": "98de6c84-8317-4f36-a8fa-33246cb6a114",
   "metadata": {},
   "outputs": [
    {
     "data": {
      "image/png": "[encoded data removed]",
      "text/plain": [
       "<Figure size 432x288 with 1 Axes>"
      ]
     },
     "metadata": {
      "needs_background": "light"
     },
     "output_type": "display_data"
    }
   ],
   "source": [
    "plt.figure()\n",
    "plt.plot(fprs[4], tprs[4], color='darkorange', lw=2, label=f'ROC curve ({roc_aucs[4]:0.4f})')\n",
    "plt.plot([0, 1], [0, 1], color='navy', lw=2, linestyle='--')\n",
    "plt.xlim([0.0, 1.0])\n",
    "plt.ylim([0.0, 1.05])\n",
    "plt.xlabel('False Positive Rate')\n",
    "plt.ylabel('True Positive Rate')\n",
    "plt.title('Receiver operating characteristic example')\n",
    "plt.legend(loc=\"lower right\")\n",
    "plt.show()"
   ]
  },
  {
   "cell_type": "code",
   "execution_count": 30,
   "id": "6038b9bd-35e5-409d-b5d3-0e9a464f5bc5",
   "metadata": {},
   "outputs": [
    {
     "name": "stdout",
     "output_type": "stream",
     "text": [
      "TPR for FPR = 10%\n",
      " Gluon:       0.3033381712626996\n",
      " Lght quarks: 0.17210990150336963\n",
      " W boson:     0.11794611082867311\n",
      " Z boson:     0.13666162380231972\n",
      " Top quark:   0.26484907497565724\n",
      "\n",
      "TPR for FPR = 1%\n",
      " Gluon:       0.07160135462022255\n",
      " Lght quarks: 0.015552099533437015\n",
      " W boson:     0.010676156583629894\n",
      " Z boson:     0.006555723651033787\n",
      " Top quark:   0.04089581304771178\n"
     ]
    }
   ],
   "source": [
    "print('TPR for FPR = 10%')\n",
    "for i in range(NUM_CLASSES):\n",
    "    tpr_fpr_intrp = interpolate.interp1d(fprs[i], tprs[i])\n",
    "    print(f' {CLASSES[i] + \":\" :<12} {tpr_fpr_intrp(0.1):<15}')\n",
    "\n",
    "print()\n",
    "print('TPR for FPR = 1%')\n",
    "for i in range(NUM_CLASSES):\n",
    "    tpr_fpr_intrp = interpolate.interp1d(fprs[i], tprs[i])\n",
    "    print(f' {CLASSES[i] + \":\" :<12} {tpr_fpr_intrp(0.01):<15}')"
   ]
  },
  {
   "cell_type": "markdown",
   "id": "35ed5457-4dd9-4bd2-a6b6-1724636bc644",
   "metadata": {},
   "source": [
    "## Test - 50"
   ]
  },
  {
   "cell_type": "code",
   "execution_count": 16,
   "id": "a77e4d23-758e-436a-82ed-ca9ede0e83ad",
   "metadata": {},
   "outputs": [
    {
     "name": "stderr",
     "output_type": "stream",
     "text": [
      "100%|█████████████████████████████████████████████████████████████████████████████████████████| 313/313 [02:13<00:00,  2.35batch/s]\n"
     ]
    }
   ],
   "source": [
    "# Loss\n",
    "criterion = torch.nn.NLLLoss()\n",
    "\n",
    "# Statistics summary\n",
    "loss_avg = utils.RunningAverage()\n",
    "summ = []\n",
    "outs_list = []\n",
    "targs_list = []\n",
    "\n",
    "# compute metrics over the dataset\n",
    "with tqdm(total=len(test_loaders[50]), unit=\"batch\") as t:\n",
    "    for i, batch in enumerate(test_loaders[50]):\n",
    "\n",
    "        # Unpack batch, move to device\n",
    "        input_seqs = batch['input_seqs']  # torch.tensor (n, 100, 16) - the first 100 highest-$p_T$ particles are considered for each jet\n",
    "        input_1ds = batch['input_1ds']    # torch.tensor (n, 59-6)\n",
    "        input_2ds = batch['input_2ds']    # torch.tensor (n, 100, 100, 3) - merge of three jet images\n",
    "        targets = batch['targets']        # torch.tensor (n, )\n",
    "\n",
    "        # Forward pass\n",
    "        outputs, energies = model(input_seqs)                 # torch.tensor (n, num_classes)\n",
    "        \n",
    "        # Calculate Loss\n",
    "        loss = criterion(outputs, targets)\n",
    "        loss_avg.update(loss.item())\n",
    "\n",
    "        # Append model preds and targs\n",
    "        outs_list.append(outputs.detach().numpy())\n",
    "        targs_list.append(targets.numpy())\n",
    "\n",
    "        # Update tqdm\n",
    "        t.update()"
   ]
  },
  {
   "cell_type": "markdown",
   "id": "856c6463-eb7c-44ff-8519-e4fa2012eb40",
   "metadata": {},
   "source": [
    "### Confusion Matrix"
   ]
  },
  {
   "cell_type": "code",
   "execution_count": 17,
   "id": "ea4f51f2-2bf8-41e8-a46b-94902cb696d6",
   "metadata": {},
   "outputs": [
    {
     "name": "stdout",
     "output_type": "stream",
     "text": [
      "Accuracy:  0.2088\n",
      "Loss:  3.4514898484507306\n"
     ]
    },
    {
     "data": {
      "image/png": "[encoded data removed]",
      "text/plain": [
       "<Figure size 432x288 with 2 Axes>"
      ]
     },
     "metadata": {
      "needs_background": "light"
     },
     "output_type": "display_data"
    }
   ],
   "source": [
    "# Stack a list\n",
    "preds = np.hstack([outs.argmax(axis=-1) for outs in outs_list]) # 1d array of shape (num_samples, )\n",
    "targs =  np.hstack(targs_list)\n",
    "\n",
    "# Cofusion Matrix\n",
    "cm = utils.confusion_matrix(preds, targs)\n",
    "\n",
    "# Acc, Loss,\n",
    "print(\"Accuracy: \",  np.sum(preds == targs) / len(targs))\n",
    "print(\"Loss: \", loss_avg())\n",
    "\n",
    "# Plot confusion matrix\n",
    "utils.plot_confusion_matrix(cm, CLASSES)\n",
    "plt.show()"
   ]
  },
  {
   "cell_type": "markdown",
   "id": "24c5bd26-cb20-4fc6-b51b-9db85a580584",
   "metadata": {},
   "source": [
    "### ROC"
   ]
  },
  {
   "cell_type": "code",
   "execution_count": 18,
   "id": "a765e1a9-9e58-472e-a10a-7a78ea467534",
   "metadata": {},
   "outputs": [],
   "source": [
    "# Stack a list of ndarray\n",
    "y_test = np.vstack([utils.one_hot(targs, NUM_CLASSES) for targs in targs_list])\n",
    "y_score = np.vstack(outs_list)\n",
    "\n",
    "# Compute ROC curve and ROC area for each class\n",
    "fprs = dict()\n",
    "tprs = dict()\n",
    "roc_aucs = dict()\n",
    "for i in range(NUM_CLASSES):\n",
    "    fprs[i], tprs[i], _ = roc_curve(y_test[:, i], y_score[:, i])\n",
    "    roc_aucs[i] = auc(fprs[i], tprs[i])\n",
    "\n",
    "# Compute micro-average of all classes ROC curve and ROC area\n",
    "fprs[\"micro\"], tprs[\"micro\"], _ = roc_curve(y_test.ravel(), y_score.ravel())\n",
    "roc_aucs[\"micro\"] = auc(fprs[\"micro\"], tprs[\"micro\"])"
   ]
  },
  {
   "cell_type": "code",
   "execution_count": 19,
   "id": "8de0a2b3-d2f9-4072-976b-d94c9283a6ef",
   "metadata": {},
   "outputs": [
    {
     "data": {
      "image/png": "[encoded data removed]",
      "text/plain": [
       "<Figure size 432x288 with 1 Axes>"
      ]
     },
     "metadata": {
      "needs_background": "light"
     },
     "output_type": "display_data"
    }
   ],
   "source": [
    "plt.figure()\n",
    "plt.plot(fprs[4], tprs[4], color='darkorange', lw=2, label=f'ROC curve ({roc_aucs[4]:0.4f})')\n",
    "plt.plot([0, 1], [0, 1], color='navy', lw=2, linestyle='--')\n",
    "plt.xlim([0.0, 1.0])\n",
    "plt.ylim([0.0, 1.05])\n",
    "plt.xlabel('False Positive Rate')\n",
    "plt.ylabel('True Positive Rate')\n",
    "plt.title('Receiver operating characteristic example')\n",
    "plt.legend(loc=\"lower right\")\n",
    "plt.show()"
   ]
  },
  {
   "cell_type": "code",
   "execution_count": 20,
   "id": "aa8adeed-a1c4-4c55-8ead-f67c223d2a68",
   "metadata": {},
   "outputs": [
    {
     "name": "stdout",
     "output_type": "stream",
     "text": [
      "TPR for FPR = 10%\n",
      " Gluon:       0.4513788098693759\n",
      " Lght quarks: 0.2099533437013997\n",
      " W boson:     0.14336553126588714\n",
      " Z boson:     0.11598587997982854\n",
      " Top quark:   0.1655306718597858\n",
      "\n",
      "TPR for FPR = 1%\n",
      " Gluon:       0.09288824383164006\n",
      " Lght quarks: 0.052358735095904614\n",
      " W boson:     0.0020335536349771225\n",
      " Z boson:     0.006555723651033787\n",
      " Top quark:   0.022395326192794548\n"
     ]
    }
   ],
   "source": [
    "print('TPR for FPR = 10%')\n",
    "for i in range(NUM_CLASSES):\n",
    "    tpr_fpr_intrp = interpolate.interp1d(fprs[i], tprs[i])\n",
    "    print(f' {CLASSES[i] + \":\" :<12} {tpr_fpr_intrp(0.1):<15}')\n",
    "\n",
    "print()\n",
    "print('TPR for FPR = 1%')\n",
    "for i in range(NUM_CLASSES):\n",
    "    tpr_fpr_intrp = interpolate.interp1d(fprs[i], tprs[i])\n",
    "    print(f' {CLASSES[i] + \":\" :<12} {tpr_fpr_intrp(0.01):<15}')"
   ]
  },
  {
   "cell_type": "code",
   "execution_count": null,
   "id": "9f36003f-7ee7-459c-a013-efbf86759baa",
   "metadata": {},
   "outputs": [],
   "source": []
  }
 ],
 "metadata": {
  "kernelspec": {
   "display_name": "Python 3 (ipykernel)",
   "language": "python",
   "name": "python3"
  },
  "language_info": {
   "codemirror_mode": {
    "name": "ipython",
    "version": 3
   },
   "file_extension": ".py",
   "mimetype": "text/x-python",
   "name": "python",
   "nbconvert_exporter": "python",
   "pygments_lexer": "ipython3",
   "version": "3.9.1"
  }
 },
 "nbformat": 4,
 "nbformat_minor": 5
}
