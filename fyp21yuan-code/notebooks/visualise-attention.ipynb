{
 "cells": [
  {
   "cell_type": "code",
   "execution_count": 36,
   "id": "1ab9921c-7ec4-4b50-95ec-13075db26cc3",
   "metadata": {},
   "outputs": [],
   "source": [
    "from pathlib import Path\n",
    "\n",
    "import torch\n",
    "from tqdm import  tqdm\n",
    "import numpy as np\n",
    "import matplotlib.pyplot as plt\n",
    "\n",
    "import project_path\n",
    "import nn.utils as utils\n",
    "import nn.model.net as net\n",
    "import nn.model.data as data\n",
    "import nn.model.loss as loss"
   ]
  },
  {
   "cell_type": "markdown",
   "id": "5e04528c-af1b-41f6-ba01-fcd99ede19f1",
   "metadata": {},
   "source": [
    "## Constants"
   ]
  },
  {
   "cell_type": "code",
   "execution_count": 37,
   "id": "23a1ef39-6542-44e7-a749-f9071aa65ee5",
   "metadata": {},
   "outputs": [],
   "source": [
    "NUM_CLASSES = 5\n",
    "CLASSES = ['Gluon', 'Lght quarks', 'W boson', 'Z boson', 'Top quark']\n",
    "MODEL_DIR = Path(\"../experiments/constituent_perceiver_1/best.script.pth\")"
   ]
  },
  {
   "cell_type": "markdown",
   "id": "8c0d221f-f76e-4de6-93e1-725330ffda48",
   "metadata": {},
   "source": [
    "## Data"
   ]
  },
  {
   "cell_type": "code",
   "execution_count": 38,
   "id": "f546d8fa-c616-41c1-a248-0cd97ec4c734",
   "metadata": {},
   "outputs": [],
   "source": [
    "# (1) creating dataset\n",
    "datasets = data.get_dataset(splits=['train-val', 'test'])\n",
    "dataset = datasets['train-val']\n",
    "\n",
    "# (2) train-validation split\n",
    "dataset_size = len(dataset)\n",
    "train_set, val_set = torch.utils.data.random_split(dataset, [dataset_size - 1000, 1000])\n",
    "\n",
    "# (3) train-validation dataloaders\n",
    "train_loader = data.DataLoader(train_set, batch_size=16, shuffle=True, collate_fn=data.get_collate_fn())\n",
    "val_loader = data.DataLoader(val_set, batch_size=32, collate_fn=data.get_collate_fn())"
   ]
  },
  {
   "cell_type": "markdown",
   "id": "451867c7-84dd-4fad-98b4-71981698a079",
   "metadata": {},
   "source": [
    "## Model"
   ]
  },
  {
   "cell_type": "code",
   "execution_count": 27,
   "id": "463c7c35-8160-466e-a618-f5beba59921e",
   "metadata": {},
   "outputs": [
    {
     "name": "stdout",
     "output_type": "stream",
     "text": [
      "Number of parameters: 8533\n"
     ]
    },
    {
     "data": {
      "text/plain": [
       "RecursiveScriptModule(\n",
       "  original_name=ConstituentNetPerceiver\n",
       "  (perceivers): RecursiveScriptModule(\n",
       "    original_name=ModuleList\n",
       "    (0): RecursiveScriptModule(\n",
       "      original_name=Perceiver\n",
       "      (cross_transformer): RecursiveScriptModule(\n",
       "        original_name=CrossTransformer\n",
       "        (self_attention): RecursiveScriptModule(\n",
       "          original_name=SelfAttention\n",
       "          (norm): RecursiveScriptModule(original_name=LayerNorm)\n",
       "          (qkv): RecursiveScriptModule(original_name=Linear)\n",
       "          (out): RecursiveScriptModule(original_name=Linear)\n",
       "        )\n",
       "        (cross_attention): RecursiveScriptModule(\n",
       "          original_name=Attention\n",
       "          (norm): RecursiveScriptModule(original_name=LayerNorm)\n",
       "          (queries): RecursiveScriptModule(original_name=Linear)\n",
       "          (keys): RecursiveScriptModule(original_name=Linear)\n",
       "          (values): RecursiveScriptModule(original_name=Linear)\n",
       "          (out): RecursiveScriptModule(original_name=Linear)\n",
       "        )\n",
       "        (linear): RecursiveScriptModule(\n",
       "          original_name=Sequential\n",
       "          (0): RecursiveScriptModule(original_name=LayerNorm)\n",
       "          (1): RecursiveScriptModule(original_name=SiLU)\n",
       "          (2): RecursiveScriptModule(original_name=Linear)\n",
       "          (3): RecursiveScriptModule(original_name=LayerNorm)\n",
       "          (4): RecursiveScriptModule(original_name=SiLU)\n",
       "          (5): RecursiveScriptModule(original_name=Linear)\n",
       "        )\n",
       "        (dropout): RecursiveScriptModule(original_name=Dropout)\n",
       "      )\n",
       "      (transformers): RecursiveScriptModule(\n",
       "        original_name=ModuleList\n",
       "        (0): RecursiveScriptModule(\n",
       "          original_name=Transformer\n",
       "          (self_attention): RecursiveScriptModule(\n",
       "            original_name=SelfAttention\n",
       "            (norm): RecursiveScriptModule(original_name=LayerNorm)\n",
       "            (qkv): RecursiveScriptModule(original_name=Linear)\n",
       "            (out): RecursiveScriptModule(original_name=Linear)\n",
       "          )\n",
       "          (linear): RecursiveScriptModule(\n",
       "            original_name=Sequential\n",
       "            (0): RecursiveScriptModule(original_name=LayerNorm)\n",
       "            (1): RecursiveScriptModule(original_name=SiLU)\n",
       "            (2): RecursiveScriptModule(original_name=Linear)\n",
       "            (3): RecursiveScriptModule(original_name=LayerNorm)\n",
       "            (4): RecursiveScriptModule(original_name=SiLU)\n",
       "            (5): RecursiveScriptModule(original_name=Linear)\n",
       "          )\n",
       "          (dropout): RecursiveScriptModule(original_name=Dropout)\n",
       "        )\n",
       "      )\n",
       "    )\n",
       "  )\n",
       "  (out_layer): RecursiveScriptModule(\n",
       "    original_name=Sequential\n",
       "    (0): RecursiveScriptModule(original_name=Linear)\n",
       "  )\n",
       ")"
      ]
     },
     "execution_count": 27,
     "metadata": {},
     "output_type": "execute_result"
    }
   ],
   "source": [
    "model = torch.jit.load(MODEL_DIR, map_location='cpu')\n",
    "print(f'Number of parameters: {utils.count_parameters(model)}')\n",
    "model.eval()"
   ]
  },
  {
   "cell_type": "markdown",
   "id": "625cf3f2-acec-493e-893f-850d976c8f95",
   "metadata": {},
   "source": [
    "## Evaluation"
   ]
  },
  {
   "cell_type": "code",
   "execution_count": 13,
   "id": "b7c4fab9-7e94-460c-b997-94045589d7fc",
   "metadata": {},
   "outputs": [
    {
     "name": "stderr",
     "output_type": "stream",
     "text": [
      "100%|███████████████████████████████████████████████████████████████████████████████████████████████████████████████████████████████████| 32/32 [00:10<00:00,  2.91batch/s]\n"
     ]
    }
   ],
   "source": [
    "# Statistics summary\n",
    "summ = []\n",
    "outs_list = []\n",
    "targs_list = []\n",
    "atten_list = []\n",
    "\n",
    "# compute metrics over the dataset\n",
    "with tqdm(total=len(val_loader), unit=\"batch\") as t:\n",
    "    for i, batch in enumerate(val_loader):\n",
    "\n",
    "        # Unpack batch, move to device\n",
    "        input_seqs = batch['input_seqs']  # torch.tensor (n, 100, 16) - the first 100 highest-$p_T$ particles are considered for each jet\n",
    "        input_1ds = batch['input_1ds']    # torch.tensor (n, 59-6)\n",
    "        input_2ds = batch['input_2ds']    # torch.tensor (n, 100, 100, 3) - merge of three jet images\n",
    "        targets = batch['targets']        # torch.tensor (n, )\n",
    "\n",
    "        # Forward pass\n",
    "        outputs, energies = model(input_seqs)                 # torch.tensor (n, num_classes)\n",
    "        attentions = torch.softmax(energies / (128 ** (1 / 2)), dim=-1)\n",
    "\n",
    "        # Append model preds and targs\n",
    "        outs_list.append(outputs.detach().numpy())\n",
    "        targs_list.append(targets.numpy())\n",
    "        atten_list.append(attentions.detach().numpy())\n",
    "\n",
    "        # Update tqdm\n",
    "        t.update()"
   ]
  },
  {
   "cell_type": "markdown",
   "id": "40940052-4e4c-43ac-8a8f-f6194df0f1d6",
   "metadata": {},
   "source": [
    "## Visualization"
   ]
  },
  {
   "cell_type": "code",
   "execution_count": 39,
   "id": "40917da2-310f-450c-855c-8d4ad0184669",
   "metadata": {},
   "outputs": [],
   "source": [
    "# Get single batch\n",
    "batch = next(iter(val_loader))\n",
    "\n",
    "# Unpack batch, move to device\n",
    "input_seqs = batch['input_seqs']  # torch.tensor (n, 100, 16) - the first 100 highest-$p_T$ particles are considered for each jet\n",
    "input_1ds = batch['input_1ds']    # torch.tensor (n, 16)\n",
    "input_2ds = batch['input_2ds']    # torch.tensor (n, 100, 100, 3) - merge of three jet images\n",
    "targets = batch['targets']        # torch.tensor (n, )\n",
    "\n",
    "# Model outputs\n",
    "model = net.ConstituentNetPerceiver()\n",
    "outputs, energies = model(input_seqs)       # torch.tensor (n, num_classes)\n",
    "# attentions = torch.softmax(energies / (128 ** (1 / 2)), dim=-1)"
   ]
  },
  {
   "cell_type": "code",
   "execution_count": 40,
   "id": "145a0b53-baf3-408b-b5db-4e62ba7e7440",
   "metadata": {},
   "outputs": [
    {
     "name": "stdout",
     "output_type": "stream",
     "text": [
      "torch.Size([32, 53])\n"
     ]
    }
   ],
   "source": [
    "print(input_1ds.shape)"
   ]
  },
  {
   "cell_type": "code",
   "execution_count": 25,
   "id": "63fdcb42-fa30-4bac-9f18-4deb82e212b9",
   "metadata": {},
   "outputs": [
    {
     "data": {
      "text/plain": [
       "torch.Size([32, 1, 4, 100])"
      ]
     },
     "execution_count": 25,
     "metadata": {},
     "output_type": "execute_result"
    }
   ],
   "source": [
    "energies.shape"
   ]
  },
  {
   "cell_type": "code",
   "execution_count": 14,
   "id": "18c4e7a7-36da-4080-9c61-69a7e46b8b12",
   "metadata": {},
   "outputs": [
    {
     "data": {
      "text/plain": [
       "tensor(0)"
      ]
     },
     "execution_count": 14,
     "metadata": {},
     "output_type": "execute_result"
    }
   ],
   "source": [
    "targets[0]"
   ]
  },
  {
   "cell_type": "code",
   "execution_count": 54,
   "id": "6ee1380c-8a50-42a7-9f88-4ef6e6893445",
   "metadata": {},
   "outputs": [
    {
     "data": {
      "image/png": "[encoded data removed]",
      "text/plain": [
       "<Figure size 432x288 with 1 Axes>"
      ]
     },
     "metadata": {
      "needs_background": "light"
     },
     "output_type": "display_data"
    }
   ],
   "source": [
    "jet_images = batch['jetImages']\n",
    "plt.imshow(jet_images[2])\n",
    "plt.show()"
   ]
  },
  {
   "cell_type": "code",
   "execution_count": 61,
   "id": "f1a1a717-f398-46a8-b283-740b2584c2f1",
   "metadata": {},
   "outputs": [
    {
     "name": "stdout",
     "output_type": "stream",
     "text": [
      "(4, 8, 4, 100)\n"
     ]
    },
    {
     "data": {
      "image/png": "[encoded data removed]",
      "text/plain": [
       "<Figure size 432x288 with 2 Axes>"
      ]
     },
     "metadata": {
      "needs_background": "light"
     },
     "output_type": "display_data"
    }
   ],
   "source": [
    "# attentions = attentions.detach().numpy()\n",
    "\n",
    "print(attentions.shape)\n",
    "\n",
    "x = input_seqs[2][:, 7]\n",
    "y = input_seqs[2][:,11]\n",
    "t = attentions[2][3][3,:]\n",
    "\n",
    "plt.scatter(x, y, c=t, cmap='viridis')\n",
    "plt.colorbar()\n",
    "plt.show()\n",
    "plt.show()"
   ]
  },
  {
   "cell_type": "code",
   "execution_count": 16,
   "id": "3842ce40-dc8f-45ad-aead-a2350cca0ddd",
   "metadata": {},
   "outputs": [
    {
     "data": {
      "text/plain": [
       "(array([4.35046e+05, 5.18975e+05, 5.28010e+04, 1.08040e+04, 3.33200e+03,\n",
       "        1.59400e+03, 9.11000e+02, 4.11000e+02, 1.18000e+02, 8.00000e+00]),\n",
       " array([0.00327229, 0.02713426, 0.05099624, 0.07485821, 0.09872019,\n",
       "        0.12258217, 0.14644414, 0.17030612, 0.19416809, 0.21803007,\n",
       "        0.24189204], dtype=float32),\n",
       " <BarContainer object of 10 artists>)"
      ]
     },
     "execution_count": 16,
     "metadata": {},
     "output_type": "execute_result"
    },
    {
     "data": {
      "image/png": "[encoded data removed]",
      "text/plain": [
       "<Figure size 432x288 with 1 Axes>"
      ]
     },
     "metadata": {
      "needs_background": "light"
     },
     "output_type": "display_data"
    }
   ],
   "source": [
    "plt.hist(attentions.reshape(-1))"
   ]
  },
  {
   "cell_type": "code",
   "execution_count": 14,
   "id": "1bc705b3-bc6e-4ac4-b00f-8fdd4adec1aa",
   "metadata": {},
   "outputs": [],
   "source": [
    "# Stack a list\n",
    "attentions = np.vstack(atten_list)"
   ]
  },
  {
   "cell_type": "code",
   "execution_count": 17,
   "id": "851896bc-272d-408b-a72b-07d129375b7a",
   "metadata": {},
   "outputs": [
    {
     "data": {
      "text/plain": [
       "(32, 1, 32, 32)"
      ]
     },
     "execution_count": 17,
     "metadata": {},
     "output_type": "execute_result"
    }
   ],
   "source": [
    "atten_list[0].shape"
   ]
  },
  {
   "cell_type": "code",
   "execution_count": 35,
   "id": "fe57c9f8-1a44-4934-9242-c7b0f871697e",
   "metadata": {},
   "outputs": [
    {
     "ename": "AttributeError",
     "evalue": "'RecursiveScriptModule' object has no attribute 'cro'",
     "output_type": "error",
     "traceback": [
      "\u001b[0;31m---------------------------------------------------------------------------\u001b[0m",
      "\u001b[0;31mAttributeError\u001b[0m                            Traceback (most recent call last)",
      "\u001b[0;32m/var/folders/68/dc7c8lg52qd463y3s071hj9r0000gn/T/ipykernel_96912/606209450.py\u001b[0m in \u001b[0;36m<module>\u001b[0;34m\u001b[0m\n\u001b[0;32m----> 1\u001b[0;31m \u001b[0mmodel\u001b[0m\u001b[0;34m.\u001b[0m\u001b[0mperceivers\u001b[0m\u001b[0;34m.\u001b[0m\u001b[0mcro\u001b[0m\u001b[0;34m\u001b[0m\u001b[0;34m\u001b[0m\u001b[0m\n\u001b[0m",
      "\u001b[0;32m~/Library/Caches/pypoetry/virtualenvs/cern-NHgzZ2XM-py3.9/lib/python3.9/site-packages/torch/jit/_script.py\u001b[0m in \u001b[0;36m__getattr__\u001b[0;34m(self, attr)\u001b[0m\n\u001b[1;32m    665\u001b[0m                 \u001b[0;32mreturn\u001b[0m \u001b[0mscript_method\u001b[0m\u001b[0;34m\u001b[0m\u001b[0;34m\u001b[0m\u001b[0m\n\u001b[1;32m    666\u001b[0m \u001b[0;34m\u001b[0m\u001b[0m\n\u001b[0;32m--> 667\u001b[0;31m             \u001b[0;32mreturn\u001b[0m \u001b[0msuper\u001b[0m\u001b[0;34m(\u001b[0m\u001b[0mRecursiveScriptModule\u001b[0m\u001b[0;34m,\u001b[0m \u001b[0mself\u001b[0m\u001b[0;34m)\u001b[0m\u001b[0;34m.\u001b[0m\u001b[0m__getattr__\u001b[0m\u001b[0;34m(\u001b[0m\u001b[0mattr\u001b[0m\u001b[0;34m)\u001b[0m\u001b[0;34m\u001b[0m\u001b[0;34m\u001b[0m\u001b[0m\n\u001b[0m\u001b[1;32m    668\u001b[0m \u001b[0;34m\u001b[0m\u001b[0m\n\u001b[1;32m    669\u001b[0m         \u001b[0;32mdef\u001b[0m \u001b[0m__setattr__\u001b[0m\u001b[0;34m(\u001b[0m\u001b[0mself\u001b[0m\u001b[0;34m,\u001b[0m \u001b[0mattr\u001b[0m\u001b[0;34m,\u001b[0m \u001b[0mvalue\u001b[0m\u001b[0;34m)\u001b[0m\u001b[0;34m:\u001b[0m\u001b[0;34m\u001b[0m\u001b[0;34m\u001b[0m\u001b[0m\n",
      "\u001b[0;32m~/Library/Caches/pypoetry/virtualenvs/cern-NHgzZ2XM-py3.9/lib/python3.9/site-packages/torch/jit/_script.py\u001b[0m in \u001b[0;36m__getattr__\u001b[0;34m(self, attr)\u001b[0m\n\u001b[1;32m    382\u001b[0m         \u001b[0;32mdef\u001b[0m \u001b[0m__getattr__\u001b[0m\u001b[0;34m(\u001b[0m\u001b[0mself\u001b[0m\u001b[0;34m,\u001b[0m \u001b[0mattr\u001b[0m\u001b[0;34m)\u001b[0m\u001b[0;34m:\u001b[0m\u001b[0;34m\u001b[0m\u001b[0;34m\u001b[0m\u001b[0m\n\u001b[1;32m    383\u001b[0m             \u001b[0;32mif\u001b[0m \u001b[0;34m\"_actual_script_module\"\u001b[0m \u001b[0;32mnot\u001b[0m \u001b[0;32min\u001b[0m \u001b[0mself\u001b[0m\u001b[0;34m.\u001b[0m\u001b[0m__dict__\u001b[0m\u001b[0;34m:\u001b[0m\u001b[0;34m\u001b[0m\u001b[0;34m\u001b[0m\u001b[0m\n\u001b[0;32m--> 384\u001b[0;31m                 \u001b[0;32mreturn\u001b[0m \u001b[0msuper\u001b[0m\u001b[0;34m(\u001b[0m\u001b[0mScriptModule\u001b[0m\u001b[0;34m,\u001b[0m \u001b[0mself\u001b[0m\u001b[0;34m)\u001b[0m\u001b[0;34m.\u001b[0m\u001b[0m__getattr__\u001b[0m\u001b[0;34m(\u001b[0m\u001b[0mattr\u001b[0m\u001b[0;34m)\u001b[0m\u001b[0;34m\u001b[0m\u001b[0;34m\u001b[0m\u001b[0m\n\u001b[0m\u001b[1;32m    385\u001b[0m             \u001b[0;32mreturn\u001b[0m \u001b[0mgetattr\u001b[0m\u001b[0;34m(\u001b[0m\u001b[0mself\u001b[0m\u001b[0;34m.\u001b[0m\u001b[0m_actual_script_module\u001b[0m\u001b[0;34m,\u001b[0m \u001b[0mattr\u001b[0m\u001b[0;34m)\u001b[0m\u001b[0;34m\u001b[0m\u001b[0;34m\u001b[0m\u001b[0m\n\u001b[1;32m    386\u001b[0m \u001b[0;34m\u001b[0m\u001b[0m\n",
      "\u001b[0;32m~/Library/Caches/pypoetry/virtualenvs/cern-NHgzZ2XM-py3.9/lib/python3.9/site-packages/torch/nn/modules/module.py\u001b[0m in \u001b[0;36m__getattr__\u001b[0;34m(self, name)\u001b[0m\n\u001b[1;32m   1128\u001b[0m             \u001b[0;32mif\u001b[0m \u001b[0mname\u001b[0m \u001b[0;32min\u001b[0m \u001b[0mmodules\u001b[0m\u001b[0;34m:\u001b[0m\u001b[0;34m\u001b[0m\u001b[0;34m\u001b[0m\u001b[0m\n\u001b[1;32m   1129\u001b[0m                 \u001b[0;32mreturn\u001b[0m \u001b[0mmodules\u001b[0m\u001b[0;34m[\u001b[0m\u001b[0mname\u001b[0m\u001b[0;34m]\u001b[0m\u001b[0;34m\u001b[0m\u001b[0;34m\u001b[0m\u001b[0m\n\u001b[0;32m-> 1130\u001b[0;31m         raise AttributeError(\"'{}' object has no attribute '{}'\".format(\n\u001b[0m\u001b[1;32m   1131\u001b[0m             type(self).__name__, name))\n\u001b[1;32m   1132\u001b[0m \u001b[0;34m\u001b[0m\u001b[0m\n",
      "\u001b[0;31mAttributeError\u001b[0m: 'RecursiveScriptModule' object has no attribute 'cro'"
     ]
    }
   ],
   "source": [
    "model.perceivers.cro"
   ]
  },
  {
   "cell_type": "code",
   "execution_count": null,
   "id": "d6cd366a-f51f-4ef6-bc87-ffd9965018a5",
   "metadata": {},
   "outputs": [],
   "source": []
  }
 ],
 "metadata": {
  "kernelspec": {
   "display_name": "Python 3 (ipykernel)",
   "language": "python",
   "name": "python3"
  },
  "language_info": {
   "codemirror_mode": {
    "name": "ipython",
    "version": 3
   },
   "file_extension": ".py",
   "mimetype": "text/x-python",
   "name": "python",
   "nbconvert_exporter": "python",
   "pygments_lexer": "ipython3",
   "version": "3.9.1"
  }
 },
 "nbformat": 4,
 "nbformat_minor": 5
}
