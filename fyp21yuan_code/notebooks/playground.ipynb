{
 "cells": [
  {
   "cell_type": "code",
   "execution_count": 1,
   "id": "67091fef-7380-443a-91ce-621da3d955b1",
   "metadata": {},
   "outputs": [],
   "source": [
    "from pathlib import Path\n",
    "\n",
    "import torch\n",
    "import numpy as np\n",
    "from tqdm import tqdm\n",
    "import matplotlib.pyplot as plt\n",
    "from sklearn.metrics import roc_curve, auc, roc_auc_score\n",
    "from scipy import interpolate\n",
    "\n",
    "import project_path\n",
    "import nn.utils as utils\n",
    "import nn.model.net as net\n",
    "import nn.model.data as data\n",
    "import nn.model.loss as loss"
   ]
  },
  {
   "cell_type": "code",
   "execution_count": 2,
   "id": "9a7d7765-3310-471c-b843-93794a9b919e",
   "metadata": {},
   "outputs": [],
   "source": [
    "import torch.nn as nn\n",
    "import torch.nn.functional as F"
   ]
  },
  {
   "cell_type": "code",
   "execution_count": 25,
   "id": "5bc8bb66-9d75-4280-807a-4d44c421c263",
   "metadata": {},
   "outputs": [],
   "source": [
    "model = net.ConstituentNetPerceiverRecurrent(embbed_dim=16, num_embbeds=32, num_heads=1, num_latent_heads=1, num_perceivers=5, num_latent_transformers=1, self_attention=True)"
   ]
  },
  {
   "cell_type": "code",
   "execution_count": 26,
   "id": "06784873-4b80-473f-bed2-b62100136f52",
   "metadata": {},
   "outputs": [
    {
     "data": {
      "text/plain": [
       "9925"
      ]
     },
     "execution_count": 26,
     "metadata": {},
     "output_type": "execute_result"
    }
   ],
   "source": [
    "utils.count_parameters(model)"
   ]
  },
  {
   "cell_type": "code",
   "execution_count": 20,
   "id": "1ac4f0a3-69ca-4cd6-a1f9-9f9713b8d1ec",
   "metadata": {},
   "outputs": [
    {
     "data": {
      "text/plain": [
       "11045"
      ]
     },
     "execution_count": 20,
     "metadata": {},
     "output_type": "execute_result"
    }
   ],
   "source": [
    "model = torch.jit.load('../experiments/constituent_perceiver_recurrent/last.script.pth')\n",
    "utils.count_parameters(model)"
   ]
  },
  {
   "cell_type": "code",
   "execution_count": 59,
   "id": "2a47d5f1-f5f1-47b1-a0fe-e9f10110a244",
   "metadata": {},
   "outputs": [],
   "source": [
    "optimizer = torch.optim.Adam(model.parameters(), lr=1e-3)\n",
    "scheduler = torch.optim.lr_scheduler.OneCycleLR(optimizer, max_lr=5e-3, steps_per_epoch=100, epochs=10, pct_start=0.2, div_factor=30, final_div_factor=1e4)"
   ]
  },
  {
   "cell_type": "code",
   "execution_count": 60,
   "id": "b1afd0b5-cd4a-4513-9425-4279f4d283d5",
   "metadata": {},
   "outputs": [],
   "source": [
    "lrs = []\n",
    "for _ in range(10):\n",
    "    for _ in range(100):\n",
    "        optimizer.step()\n",
    "        lrs.append(optimizer.param_groups[0]['lr'])\n",
    "        scheduler.step()"
   ]
  },
  {
   "cell_type": "code",
   "execution_count": 61,
   "id": "c7f57678-977b-46ba-a850-14acd543a823",
   "metadata": {},
   "outputs": [
    {
     "data": {
      "text/plain": [
       "[<matplotlib.lines.Line2D at 0x175e67040>]"
      ]
     },
     "execution_count": 61,
     "metadata": {},
     "output_type": "execute_result"
    },
    {
     "data": {
      "image/png": "[encoded data removed]",
      "text/plain": [
       "<Figure size 432x288 with 1 Axes>"
      ]
     },
     "metadata": {
      "needs_background": "light"
     },
     "output_type": "display_data"
    }
   ],
   "source": [
    "plt.plot(lrs)"
   ]
  },
  {
   "cell_type": "code",
   "execution_count": 62,
   "id": "4a6e296c-47e4-40fe-9691-da904c2c36c0",
   "metadata": {},
   "outputs": [
    {
     "data": {
      "text/plain": [
       "0.00016666666666666666"
      ]
     },
     "execution_count": 62,
     "metadata": {},
     "output_type": "execute_result"
    }
   ],
   "source": [
    "5e-3/30"
   ]
  },
  {
   "cell_type": "code",
   "execution_count": 21,
   "id": "9815cd33-cc95-462f-a93e-ddc457555e7b",
   "metadata": {},
   "outputs": [],
   "source": [
    "import h5py"
   ]
  },
  {
   "cell_type": "code",
   "execution_count": 22,
   "id": "31358c1b-cd40-4a72-a6a9-c5af196d5687",
   "metadata": {},
   "outputs": [],
   "source": [
    "file = h5py.File('../data/processed/train-val/jetImage_7_100p_0_10000.h5')"
   ]
  },
  {
   "cell_type": "code",
   "execution_count": 23,
   "id": "18a53211-a9c1-49fe-b187-a430b33b373b",
   "metadata": {},
   "outputs": [
    {
     "data": {
      "text/plain": [
       "<HDF5 dataset \"jets\": shape (10000, 59), type \"<f8\">"
      ]
     },
     "execution_count": 23,
     "metadata": {},
     "output_type": "execute_result"
    }
   ],
   "source": [
    "file['jets']"
   ]
  },
  {
   "cell_type": "code",
   "execution_count": 12,
   "id": "33a71870-f542-4934-8d79-a18b7e68feba",
   "metadata": {},
   "outputs": [],
   "source": [
    "for feature_name, feature in file.items():\n",
    "    print(feature_name)"
   ]
  },
  {
   "cell_type": "code",
   "execution_count": 3,
   "id": "653dbb91-8384-4c73-af4e-79d413de5261",
   "metadata": {},
   "outputs": [],
   "source": [
    "# (1) creating dataset\n",
    "datasets = data.get_dataset(splits=['train-val', 'test'])\n",
    "dataset = datasets['train-val']\n",
    "test_set = datasets['test']"
   ]
  },
  {
   "cell_type": "code",
   "execution_count": 72,
   "id": "b45b77a6-abe6-4d91-87ee-678c8d721931",
   "metadata": {},
   "outputs": [],
   "source": [
    "dataset_size = len(dataset)\n",
    "train_set, val_set, _ = torch.utils.data.random_split(dataset, [dataset_size - 10000, 10000, 0])"
   ]
  },
  {
   "cell_type": "code",
   "execution_count": 73,
   "id": "7835802f-c591-4e0f-bcad-748bad2b2046",
   "metadata": {},
   "outputs": [],
   "source": [
    "train_loader = data.DataLoader(train_set, batch_size=32, shuffle=True, collate_fn=data.get_collate_fn())\n"
   ]
  },
  {
   "cell_type": "code",
   "execution_count": null,
   "id": "3d5de822-42b8-49a6-81f7-ad1501ab58e4",
   "metadata": {},
   "outputs": [],
   "source": [
    "for sample in train_loader:\n",
    "    print('ok')\n",
    "    "
   ]
  },
  {
   "cell_type": "code",
   "execution_count": 4,
   "id": "5a068c04-2b7d-4366-8610-ade65113c401",
   "metadata": {},
   "outputs": [
    {
     "data": {
      "text/plain": [
       "860000"
      ]
     },
     "execution_count": 4,
     "metadata": {},
     "output_type": "execute_result"
    }
   ],
   "source": [
    "len(dataset)"
   ]
  },
  {
   "cell_type": "code",
   "execution_count": null,
   "id": "395c04d8-81f1-43e4-949f-3f5033fe6c3e",
   "metadata": {},
   "outputs": [],
   "source": []
  }
 ],
 "metadata": {
  "kernelspec": {
   "display_name": "Python 3 (ipykernel)",
   "language": "python",
   "name": "python3"
  },
  "language_info": {
   "codemirror_mode": {
    "name": "ipython",
    "version": 3
   },
   "file_extension": ".py",
   "mimetype": "text/x-python",
   "name": "python",
   "nbconvert_exporter": "python",
   "pygments_lexer": "ipython3",
   "version": "3.9.1"
  }
 },
 "nbformat": 4,
 "nbformat_minor": 5
}
