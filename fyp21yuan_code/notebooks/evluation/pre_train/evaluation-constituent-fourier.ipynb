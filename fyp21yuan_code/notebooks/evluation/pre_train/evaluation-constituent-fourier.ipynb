{
 "cells": [
  {
   "cell_type": "code",
   "execution_count": 1,
   "id": "006532d2",
   "metadata": {},
   "outputs": [],
   "source": [
    "from pathlib import Path\n",
    "\n",
    "import torch\n",
    "import numpy as np\n",
    "from tqdm import tqdm\n",
    "import matplotlib.pyplot as plt\n",
    "from sklearn.metrics import roc_curve, auc, roc_auc_score\n",
    "from scipy import interpolate\n",
    "\n",
    "import project_path\n",
    "import nn.utils as utils\n",
    "import nn.model.net as net\n",
    "import nn.model.data as data\n",
    "import nn.model.loss as loss"
   ]
  },
  {
   "cell_type": "markdown",
   "id": "af8d2ef0",
   "metadata": {},
   "source": [
    "## Constants"
   ]
  },
  {
   "cell_type": "code",
   "execution_count": 2,
   "id": "dd5c5547",
   "metadata": {},
   "outputs": [],
   "source": [
    "NUM_CLASSES = 5\n",
    "CLASSES = ['Gluon', 'Lght quarks', 'W boson', 'Z boson', 'Top quark']\n",
    "MODEL_DIR = Path(\"../../../experiments/pre_train/constituent_fourier/best.script.pth\")"
   ]
  },
  {
   "cell_type": "code",
   "execution_count": 3,
   "id": "7deb8798",
   "metadata": {},
   "outputs": [
    {
     "data": {
      "text/plain": [
       "<torch._C.Generator at 0x106d104b0>"
      ]
     },
     "execution_count": 3,
     "metadata": {},
     "output_type": "execute_result"
    }
   ],
   "source": [
    "torch.manual_seed(230)"
   ]
  },
  {
   "cell_type": "markdown",
   "id": "693b4ec7",
   "metadata": {},
   "source": [
    "## Data"
   ]
  },
  {
   "cell_type": "code",
   "execution_count": 4,
   "id": "965486fa",
   "metadata": {},
   "outputs": [],
   "source": [
    "# (1) creating dataset\n",
    "datasets = data.get_dataset(splits=['train-val', 'test'])\n",
    "dataset = datasets['train-val']\n",
    "test_set = datasets['test']\n",
    "\n",
    "# (2) train-validation split\n",
    "dataset_size = len(dataset)\n",
    "train_set, val_set, _ = torch.utils.data.random_split(dataset, [dataset_size - 1000, 1000, 0])\n",
    "\n",
    "# (3) train-validation dataloaders\n",
    "train_loader = data.DataLoader(train_set, batch_size=32, shuffle=True, collate_fn=data.get_collate_fn())\n",
    "val_loader = data.DataLoader(val_set, batch_size=32, collate_fn=data.get_collate_fn())\n",
    "test_loader = data.DataLoader(test_set, batch_size=32, collate_fn=data.get_collate_fn())"
   ]
  },
  {
   "cell_type": "markdown",
   "id": "bb07a0bd",
   "metadata": {},
   "source": [
    "## Model"
   ]
  },
  {
   "cell_type": "code",
   "execution_count": 5,
   "id": "3c3ac52d",
   "metadata": {},
   "outputs": [
    {
     "name": "stdout",
     "output_type": "stream",
     "text": [
      "Number of parameters: 202885\n"
     ]
    },
    {
     "data": {
      "text/plain": [
       "RecursiveScriptModule(\n",
       "  original_name=ConstituentNetFourier\n",
       "  (inp_layer): RecursiveScriptModule(original_name=Linear)\n",
       "  (out_layer): RecursiveScriptModule(\n",
       "    original_name=Sequential\n",
       "    (0): RecursiveScriptModule(original_name=LayerNorm)\n",
       "    (1): RecursiveScriptModule(original_name=Linear)\n",
       "  )\n",
       "  (mixers): RecursiveScriptModule(\n",
       "    original_name=ModuleList\n",
       "    (0): RecursiveScriptModule(\n",
       "      original_name=FourierMixer\n",
       "      (fourier_mixing): RecursiveScriptModule(\n",
       "        original_name=FourierMixing\n",
       "        (norm): RecursiveScriptModule(original_name=LayerNorm)\n",
       "      )\n",
       "      (linear): RecursiveScriptModule(\n",
       "        original_name=Sequential\n",
       "        (0): RecursiveScriptModule(original_name=LayerNorm)\n",
       "        (1): RecursiveScriptModule(original_name=SiLU)\n",
       "        (2): RecursiveScriptModule(original_name=Linear)\n",
       "        (3): RecursiveScriptModule(original_name=LayerNorm)\n",
       "        (4): RecursiveScriptModule(original_name=SiLU)\n",
       "        (5): RecursiveScriptModule(original_name=Linear)\n",
       "      )\n",
       "      (dropout): RecursiveScriptModule(original_name=Dropout)\n",
       "    )\n",
       "    (1): RecursiveScriptModule(\n",
       "      original_name=FourierMixer\n",
       "      (fourier_mixing): RecursiveScriptModule(\n",
       "        original_name=FourierMixing\n",
       "        (norm): RecursiveScriptModule(original_name=LayerNorm)\n",
       "      )\n",
       "      (linear): RecursiveScriptModule(\n",
       "        original_name=Sequential\n",
       "        (0): RecursiveScriptModule(original_name=LayerNorm)\n",
       "        (1): RecursiveScriptModule(original_name=SiLU)\n",
       "        (2): RecursiveScriptModule(original_name=Linear)\n",
       "        (3): RecursiveScriptModule(original_name=LayerNorm)\n",
       "        (4): RecursiveScriptModule(original_name=SiLU)\n",
       "        (5): RecursiveScriptModule(original_name=Linear)\n",
       "      )\n",
       "      (dropout): RecursiveScriptModule(original_name=Dropout)\n",
       "    )\n",
       "    (2): RecursiveScriptModule(\n",
       "      original_name=FourierMixer\n",
       "      (fourier_mixing): RecursiveScriptModule(\n",
       "        original_name=FourierMixing\n",
       "        (norm): RecursiveScriptModule(original_name=LayerNorm)\n",
       "      )\n",
       "      (linear): RecursiveScriptModule(\n",
       "        original_name=Sequential\n",
       "        (0): RecursiveScriptModule(original_name=LayerNorm)\n",
       "        (1): RecursiveScriptModule(original_name=SiLU)\n",
       "        (2): RecursiveScriptModule(original_name=Linear)\n",
       "        (3): RecursiveScriptModule(original_name=LayerNorm)\n",
       "        (4): RecursiveScriptModule(original_name=SiLU)\n",
       "        (5): RecursiveScriptModule(original_name=Linear)\n",
       "      )\n",
       "      (dropout): RecursiveScriptModule(original_name=Dropout)\n",
       "    )\n",
       "  )\n",
       ")"
      ]
     },
     "execution_count": 5,
     "metadata": {},
     "output_type": "execute_result"
    }
   ],
   "source": [
    "model = torch.jit.load(MODEL_DIR, map_location='cpu')\n",
    "print(f'Number of parameters: {utils.count_parameters(model)}')\n",
    "model.eval()"
   ]
  },
  {
   "cell_type": "markdown",
   "id": "bbff2077",
   "metadata": {},
   "source": [
    "## Evaluation"
   ]
  },
  {
   "cell_type": "code",
   "execution_count": 6,
   "id": "1946a17b",
   "metadata": {},
   "outputs": [
    {
     "name": "stderr",
     "output_type": "stream",
     "text": [
      "100%|███████████████████████████████████████████████████████████████████████████████████████████| 32/32 [01:14<00:00,  2.34s/batch]\n"
     ]
    }
   ],
   "source": [
    "# Statistics summary\n",
    "summ = []\n",
    "outs_list = []\n",
    "targs_list = []\n",
    "\n",
    "# compute metrics over the dataset\n",
    "with tqdm(total=len(val_loader), unit=\"batch\") as t:\n",
    "    for i, batch in enumerate(val_loader):\n",
    "\n",
    "        # Unpack batch, move to device\n",
    "        input_seqs = batch['input_seqs']  # torch.tensor (n, 100, 16) - the first 100 highest-$p_T$ particles are considered for each jet\n",
    "        input_1ds = batch['input_1ds']    # torch.tensor (n, 59-6)\n",
    "        input_2ds = batch['input_2ds']    # torch.tensor (n, 100, 100, 3) - merge of three jet images\n",
    "        targets = batch['targets']        # torch.tensor (n, )\n",
    "\n",
    "        # Forward pass\n",
    "        outputs = model(input_seqs)                 # torch.tensor (n, num_classes)\n",
    "\n",
    "        # Append model preds and targs\n",
    "        outs_list.append(outputs.detach().numpy())\n",
    "        targs_list.append(targets.numpy())\n",
    "\n",
    "        # Update tqdm\n",
    "        t.update()"
   ]
  },
  {
   "cell_type": "markdown",
   "id": "be9902e9",
   "metadata": {},
   "source": [
    "### Confusion Matrix"
   ]
  },
  {
   "cell_type": "code",
   "execution_count": 7,
   "id": "3d9e639d",
   "metadata": {},
   "outputs": [
    {
     "name": "stdout",
     "output_type": "stream",
     "text": [
      "Accuracy:  0.769\n"
     ]
    },
    {
     "data": {
      "image/png": "[encoded data removed]",
      "text/plain": [
       "<Figure size 432x288 with 2 Axes>"
      ]
     },
     "metadata": {
      "needs_background": "light"
     },
     "output_type": "display_data"
    }
   ],
   "source": [
    "# Stack a list\n",
    "preds = np.hstack([outs.argmax(axis=-1) for outs in outs_list]) # 1d array of shape (num_samples, )\n",
    "targs =  np.hstack(targs_list)\n",
    "\n",
    "# Cofusion Matrix\n",
    "cm = utils.confusion_matrix(preds, targs)\n",
    "\n",
    "# Acc, precision,\n",
    "print(\"Accuracy: \",  np.sum(preds == targs) / len(targs))\n",
    "\n",
    "# Plot confusion matrix\n",
    "utils.plot_confusion_matrix(cm, CLASSES)\n",
    "plt.show()"
   ]
  },
  {
   "cell_type": "markdown",
   "id": "8415727c",
   "metadata": {},
   "source": [
    "### ROC"
   ]
  },
  {
   "cell_type": "code",
   "execution_count": 8,
   "id": "ae87d97c",
   "metadata": {},
   "outputs": [],
   "source": [
    "# Stack a list of ndarray\n",
    "y_test = np.vstack([utils.one_hot(targs, NUM_CLASSES) for targs in targs_list])\n",
    "y_score = np.vstack(outs_list)\n",
    "\n",
    "# Compute ROC curve and ROC area for each class\n",
    "fprs = dict()\n",
    "tprs = dict()\n",
    "roc_aucs = dict()\n",
    "for i in range(NUM_CLASSES):\n",
    "    fprs[i], tprs[i], _ = roc_curve(y_test[:, i], y_score[:, i])\n",
    "    roc_aucs[i] = auc(fprs[i], tprs[i])\n",
    "\n",
    "# Compute micro-average of all classes ROC curve and ROC area\n",
    "fprs[\"micro\"], tprs[\"micro\"], _ = roc_curve(y_test.ravel(), y_score.ravel())\n",
    "roc_aucs[\"micro\"] = auc(fprs[\"micro\"], tprs[\"micro\"])"
   ]
  },
  {
   "cell_type": "code",
   "execution_count": 9,
   "id": "207b9b22",
   "metadata": {},
   "outputs": [
    {
     "data": {
      "image/png": "[encoded data removed]",
      "text/plain": [
       "<Figure size 432x288 with 1 Axes>"
      ]
     },
     "metadata": {
      "needs_background": "light"
     },
     "output_type": "display_data"
    }
   ],
   "source": [
    "plt.figure()\n",
    "plt.plot(fprs[4], tprs[4], color='darkorange', lw=2, label=f'ROC curve ({roc_aucs[4]:0.4f})')\n",
    "plt.plot([0, 1], [0, 1], color='navy', lw=2, linestyle='--')\n",
    "plt.xlim([0.0, 1.0])\n",
    "plt.ylim([0.0, 1.05])\n",
    "plt.xlabel('False Positive Rate')\n",
    "plt.ylabel('True Positive Rate')\n",
    "plt.title('Receiver operating characteristic example')\n",
    "plt.legend(loc=\"lower right\")\n",
    "plt.show()"
   ]
  },
  {
   "cell_type": "code",
   "execution_count": 10,
   "id": "2d4f5493",
   "metadata": {},
   "outputs": [
    {
     "name": "stdout",
     "output_type": "stream",
     "text": [
      "TPR for FPR = 10%\n",
      " Gluon:       0.8350515463917526\n",
      " Lght quarks: 0.8064516129032258\n",
      " W boson:     0.8697674418604651\n",
      " Z boson:     0.8494623655913979\n",
      " Top quark:   0.9315068493150684\n",
      "\n",
      "TPR for FPR = 1%\n",
      " Gluon:       0.5051546391752577\n",
      " Lght quarks: 0.3655913978494624\n",
      " W boson:     0.40930232558139534\n",
      " Z boson:     0.521505376344086\n",
      " Top quark:   0.6575342465753424\n"
     ]
    }
   ],
   "source": [
    "print('TPR for FPR = 10%')\n",
    "for i in range(NUM_CLASSES):\n",
    "    tpr_fpr_intrp = interpolate.interp1d(fprs[i], tprs[i])\n",
    "    print(f' {CLASSES[i] + \":\" :<12} {tpr_fpr_intrp(0.1):<15}')\n",
    "\n",
    "print()\n",
    "print('TPR for FPR = 1%')\n",
    "for i in range(NUM_CLASSES):\n",
    "    tpr_fpr_intrp = interpolate.interp1d(fprs[i], tprs[i])\n",
    "    print(f' {CLASSES[i] + \":\" :<12} {tpr_fpr_intrp(0.01):<15}')"
   ]
  },
  {
   "cell_type": "markdown",
   "id": "1f6236a6",
   "metadata": {},
   "source": [
    "## Test"
   ]
  },
  {
   "cell_type": "code",
   "execution_count": 11,
   "id": "1bdbecfd",
   "metadata": {},
   "outputs": [
    {
     "name": "stderr",
     "output_type": "stream",
     "text": [
      "100%|█████████████████████████████████████████████████████████████████████████████████████████| 313/313 [02:28<00:00,  2.11batch/s]\n"
     ]
    }
   ],
   "source": [
    "# Statistics summary\n",
    "summ = []\n",
    "outs_list = []\n",
    "targs_list = []\n",
    "\n",
    "# compute metrics over the dataset\n",
    "with tqdm(total=len(test_loader), unit=\"batch\") as t:\n",
    "    for i, batch in enumerate(test_loader):\n",
    "\n",
    "        # Unpack batch, move to device\n",
    "        input_seqs = batch['input_seqs']  # torch.tensor (n, 100, 16) - the first 100 highest-$p_T$ particles are considered for each jet\n",
    "        input_1ds = batch['input_1ds']    # torch.tensor (n, 59-6)\n",
    "        input_2ds = batch['input_2ds']    # torch.tensor (n, 100, 100, 3) - merge of three jet images\n",
    "        targets = batch['targets']        # torch.tensor (n, )\n",
    "\n",
    "        # Forward pass\n",
    "        outputs = model(input_seqs)                 # torch.tensor (n, num_classes)\n",
    "\n",
    "        # Append model preds and targs\n",
    "        outs_list.append(outputs.detach().numpy())\n",
    "        targs_list.append(targets.numpy())\n",
    "\n",
    "        # Update tqdm\n",
    "        t.update()"
   ]
  },
  {
   "cell_type": "markdown",
   "id": "eb74b3ac",
   "metadata": {},
   "source": [
    "### Confusion Matrix"
   ]
  },
  {
   "cell_type": "code",
   "execution_count": 12,
   "id": "b71a7094",
   "metadata": {},
   "outputs": [
    {
     "name": "stdout",
     "output_type": "stream",
     "text": [
      "Accuracy:  0.4535\n"
     ]
    },
    {
     "data": {
      "image/png": "[encoded data removed]",
      "text/plain": [
       "<Figure size 432x288 with 2 Axes>"
      ]
     },
     "metadata": {
      "needs_background": "light"
     },
     "output_type": "display_data"
    }
   ],
   "source": [
    "# Stack a list\n",
    "preds = np.hstack([outs.argmax(axis=-1) for outs in outs_list]) # 1d array of shape (num_samples, )\n",
    "targs =  np.hstack(targs_list)\n",
    "\n",
    "# Cofusion Matrix\n",
    "cm = utils.confusion_matrix(preds, targs)\n",
    "\n",
    "# Acc, precision,\n",
    "print(\"Accuracy: \",  np.sum(preds == targs) / len(targs))\n",
    "\n",
    "# Plot confusion matrix\n",
    "utils.plot_confusion_matrix(cm, CLASSES)\n",
    "plt.show()"
   ]
  },
  {
   "cell_type": "markdown",
   "id": "74f32516",
   "metadata": {},
   "source": [
    "### ROC"
   ]
  },
  {
   "cell_type": "code",
   "execution_count": 13,
   "id": "51f73da5",
   "metadata": {},
   "outputs": [],
   "source": [
    "# Stack a list of ndarray\n",
    "y_test = np.vstack([utils.one_hot(targs, NUM_CLASSES) for targs in targs_list])\n",
    "y_score = np.vstack(outs_list)\n",
    "\n",
    "# Compute ROC curve and ROC area for each class\n",
    "fprs = dict()\n",
    "tprs = dict()\n",
    "roc_aucs = dict()\n",
    "for i in range(NUM_CLASSES):\n",
    "    fprs[i], tprs[i], _ = roc_curve(y_test[:, i], y_score[:, i])\n",
    "    roc_aucs[i] = auc(fprs[i], tprs[i])\n",
    "\n",
    "# Compute micro-average of all classes ROC curve and ROC area\n",
    "fprs[\"micro\"], tprs[\"micro\"], _ = roc_curve(y_test.ravel(), y_score.ravel())\n",
    "roc_aucs[\"micro\"] = auc(fprs[\"micro\"], tprs[\"micro\"])"
   ]
  },
  {
   "cell_type": "code",
   "execution_count": 14,
   "id": "8003cb2d",
   "metadata": {},
   "outputs": [
    {
     "data": {
      "image/png": "[encoded data removed]",
      "text/plain": [
       "<Figure size 432x288 with 1 Axes>"
      ]
     },
     "metadata": {
      "needs_background": "light"
     },
     "output_type": "display_data"
    }
   ],
   "source": [
    "plt.figure()\n",
    "plt.plot(fprs[4], tprs[4], color='darkorange', lw=2, label=f'ROC curve ({roc_aucs[4]:0.4f})')\n",
    "plt.plot([0, 1], [0, 1], color='navy', lw=2, linestyle='--')\n",
    "plt.xlim([0.0, 1.0])\n",
    "plt.ylim([0.0, 1.05])\n",
    "plt.xlabel('False Positive Rate')\n",
    "plt.ylabel('True Positive Rate')\n",
    "plt.title('Receiver operating characteristic example')\n",
    "plt.legend(loc=\"lower right\")\n",
    "plt.show()"
   ]
  },
  {
   "cell_type": "code",
   "execution_count": 15,
   "id": "9ec5ad4f",
   "metadata": {},
   "outputs": [
    {
     "name": "stdout",
     "output_type": "stream",
     "text": [
      "TPR for FPR = 10%\n",
      " Gluon:       0.4760522496371553\n",
      " Lght quarks: 0.514256091238984\n",
      " W boson:     0.41331977630910016\n",
      " Z boson:     0.34392334846192635\n",
      " Top quark:   0.6480038948393378\n",
      "\n",
      "TPR for FPR = 1%\n",
      " Gluon:       0.21673923560716013\n",
      " Lght quarks: 0.11456713322965267\n",
      " W boson:     0.058464667005592275\n",
      " Z boson:     0.07060010085728693\n",
      " Top quark:   0.2887049659201558\n"
     ]
    }
   ],
   "source": [
    "print('TPR for FPR = 10%')\n",
    "for i in range(NUM_CLASSES):\n",
    "    tpr_fpr_intrp = interpolate.interp1d(fprs[i], tprs[i])\n",
    "    print(f' {CLASSES[i] + \":\" :<12} {tpr_fpr_intrp(0.1):<15}')\n",
    "\n",
    "print()\n",
    "print('TPR for FPR = 1%')\n",
    "for i in range(NUM_CLASSES):\n",
    "    tpr_fpr_intrp = interpolate.interp1d(fprs[i], tprs[i])\n",
    "    print(f' {CLASSES[i] + \":\" :<12} {tpr_fpr_intrp(0.01):<15}')"
   ]
  },
  {
   "cell_type": "code",
   "execution_count": null,
   "id": "ce27249d",
   "metadata": {},
   "outputs": [],
   "source": []
  }
 ],
 "metadata": {
  "kernelspec": {
   "display_name": "Python 3 (ipykernel)",
   "language": "python",
   "name": "python3"
  },
  "language_info": {
   "codemirror_mode": {
    "name": "ipython",
    "version": 3
   },
   "file_extension": ".py",
   "mimetype": "text/x-python",
   "name": "python",
   "nbconvert_exporter": "python",
   "pygments_lexer": "ipython3",
   "version": "3.9.1"
  }
 },
 "nbformat": 4,
 "nbformat_minor": 5
}
